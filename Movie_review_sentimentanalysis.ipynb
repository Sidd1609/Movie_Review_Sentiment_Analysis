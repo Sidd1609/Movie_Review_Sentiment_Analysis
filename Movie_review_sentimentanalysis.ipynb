{
  "nbformat": 4,
  "nbformat_minor": 0,
  "metadata": {
    "colab": {
      "name": "Movie-review-sentimentanalysis.ipynb",
      "provenance": [],
      "collapsed_sections": [],
      "include_colab_link": true
    },
    "kernelspec": {
      "name": "python3",
      "display_name": "Python 3"
    }
  },
  "cells": [
    {
      "cell_type": "markdown",
      "metadata": {
        "id": "view-in-github",
        "colab_type": "text"
      },
      "source": [
        "<a href=\"https://colab.research.google.com/github/Sidd1609/Movie_Review_Sentiment_Analysis/blob/master/Movie_review_sentimentanalysis.ipynb\" target=\"_parent\"><img src=\"https://colab.research.google.com/assets/colab-badge.svg\" alt=\"Open In Colab\"/></a>"
      ]
    },
    {
      "cell_type": "code",
      "metadata": {
        "id": "OcEWWkX2q_rz",
        "colab_type": "code",
        "colab": {}
      },
      "source": [
        "from google.colab import files"
      ],
      "execution_count": 0,
      "outputs": []
    },
    {
      "cell_type": "code",
      "metadata": {
        "id": "I0e-Qmb1IUY1",
        "colab_type": "code",
        "colab": {}
      },
      "source": [
        "uploaded = files.upload()"
      ],
      "execution_count": 0,
      "outputs": []
    },
    {
      "cell_type": "code",
      "metadata": {
        "id": "ysUxyAr3Kfom",
        "colab_type": "code",
        "colab": {}
      },
      "source": [
        "#Reading text files from NEG\n",
        "from os import listdir\n",
        "def load_doc(filename):\n",
        "\tfile = open(filename, 'r')\n",
        "\ttext = file.read()\n",
        "\tfile.close()\n",
        "\treturn text\n",
        "\n",
        "directory = 'neg'\n",
        "for filename in listdir(directory):\n",
        "\tif not filename.endswith(\".txt\"):\n",
        "\t\tcontinue\n",
        "\tpath = directory + '/' + filename\n",
        "\tdoc = load_doc(path)\n",
        "\tprint('Loaded %s' % filename)"
      ],
      "execution_count": 0,
      "outputs": []
    },
    {
      "cell_type": "code",
      "metadata": {
        "id": "Yfe7gdKgLHM6",
        "colab_type": "code",
        "colab": {}
      },
      "source": [
        "#Reading a Text file\n",
        "filename = 'cv000_29416.txt'\n",
        "file = open(filename, 'r')\n",
        "text = file.read()\n",
        "file.close()"
      ],
      "execution_count": 0,
      "outputs": []
    },
    {
      "cell_type": "code",
      "metadata": {
        "id": "uztm82rjLRtS",
        "colab_type": "code",
        "colab": {}
      },
      "source": [
        " #All used files from NEG\n",
        " uploaded"
      ],
      "execution_count": 0,
      "outputs": []
    },
    {
      "cell_type": "code",
      "metadata": {
        "id": "vkdueq3FMmlx",
        "colab_type": "code",
        "colab": {
          "base_uri": "https://localhost:8080/",
          "height": 748
        },
        "outputId": "2cd2d314-d26b-4465-9b1b-0f83b9c9d04b"
      },
      "source": [
        "!git clone"
      ],
      "execution_count": 20,
      "outputs": [
        {
          "output_type": "stream",
          "text": [
            "fatal: You must specify a repository to clone.\n",
            "\n",
            "usage: git clone [<options>] [--] <repo> [<dir>]\n",
            "\n",
            "    -v, --verbose         be more verbose\n",
            "    -q, --quiet           be more quiet\n",
            "    --progress            force progress reporting\n",
            "    -n, --no-checkout     don't create a checkout\n",
            "    --bare                create a bare repository\n",
            "    --mirror              create a mirror repository (implies bare)\n",
            "    -l, --local           to clone from a local repository\n",
            "    --no-hardlinks        don't use local hardlinks, always copy\n",
            "    -s, --shared          setup as shared repository\n",
            "    --recurse-submodules[=<pathspec>]\n",
            "                          initialize submodules in the clone\n",
            "    -j, --jobs <n>        number of submodules cloned in parallel\n",
            "    --template <template-directory>\n",
            "                          directory from which templates will be used\n",
            "    --reference <repo>    reference repository\n",
            "    --reference-if-able <repo>\n",
            "                          reference repository\n",
            "    --dissociate          use --reference only while cloning\n",
            "    -o, --origin <name>   use <name> instead of 'origin' to track upstream\n",
            "    -b, --branch <branch>\n",
            "                          checkout <branch> instead of the remote's HEAD\n",
            "    -u, --upload-pack <path>\n",
            "                          path to git-upload-pack on the remote\n",
            "    --depth <depth>       create a shallow clone of that depth\n",
            "    --shallow-since <time>\n",
            "                          create a shallow clone since a specific time\n",
            "    --shallow-exclude <revision>\n",
            "                          deepen history of shallow clone, excluding rev\n",
            "    --single-branch       clone only one branch, HEAD or --branch\n",
            "    --no-tags             don't clone any tags, and make later fetches not to follow them\n",
            "    --shallow-submodules  any cloned submodules will be shallow\n",
            "    --separate-git-dir <gitdir>\n",
            "                          separate git dir from working tree\n",
            "    -c, --config <key=value>\n",
            "                          set config inside the new repository\n",
            "    -4, --ipv4            use IPv4 addresses only\n",
            "    -6, --ipv6            use IPv6 addresses only\n",
            "    --filter <args>       object filtering\n",
            "\n"
          ],
          "name": "stdout"
        }
      ]
    },
    {
      "cell_type": "code",
      "metadata": {
        "id": "oI0ENT6dN-9S",
        "colab_type": "code",
        "colab": {
          "base_uri": "https://localhost:8080/",
          "height": 1000
        },
        "outputId": "26cd9ef0-dec1-439f-ddc8-5281d34d34c9"
      },
      "source": [
        "!ls"
      ],
      "execution_count": 21,
      "outputs": [
        {
          "output_type": "stream",
          "text": [
            "'cv000_29416 (1).txt'   cv064_25842.txt   cv178_14380.txt   cv292_7804.txt\n",
            " cv000_29416.txt        cv065_16909.txt   cv179_9533.txt    cv293_29731.txt\n",
            "'cv001_19502 (1).txt'   cv066_11668.txt   cv180_17823.txt   cv294_12695.txt\n",
            " cv001_19502.txt        cv067_21192.txt   cv181_16083.txt   cv295_17060.txt\n",
            "'cv002_17424 (1).txt'   cv068_14810.txt   cv182_7791.txt    cv296_13146.txt\n",
            " cv002_17424.txt        cv069_11613.txt   cv183_19826.txt   cv297_10104.txt\n",
            "'cv003_12683 (1).txt'   cv070_13249.txt   cv184_26935.txt   cv298_24487.txt\n",
            " cv003_12683.txt        cv071_12969.txt   cv185_28372.txt   cv299_17950.txt\n",
            "'cv004_12641 (1).txt'   cv072_5928.txt\t  cv186_2396.txt    cv300_23302.txt\n",
            " cv004_12641.txt        cv073_23039.txt   cv187_14112.txt   cv301_13010.txt\n",
            "'cv005_29357 (1).txt'   cv074_7188.txt\t  cv188_20687.txt   cv302_26481.txt\n",
            " cv005_29357.txt        cv075_6250.txt\t  cv189_24248.txt   cv303_27366.txt\n",
            "'cv006_17022 (1).txt'   cv076_26009.txt   cv190_27176.txt   cv304_28489.txt\n",
            " cv006_17022.txt        cv077_23172.txt   cv191_29539.txt   cv305_9937.txt\n",
            "'cv007_4992 (1).txt'    cv078_16506.txt   cv192_16079.txt   cv306_10859.txt\n",
            " cv007_4992.txt         cv079_12766.txt   cv193_5393.txt    cv307_26382.txt\n",
            "'cv008_29326 (1).txt'   cv080_14899.txt   cv194_12855.txt   cv308_5079.txt\n",
            " cv008_29326.txt        cv081_18241.txt   cv195_16146.txt   cv309_23737.txt\n",
            "'cv009_29417 (1).txt'   cv082_11979.txt   cv196_28898.txt   cv310_14568.txt\n",
            " cv009_29417.txt        cv083_25491.txt   cv197_29271.txt   cv311_17708.txt\n",
            "'cv010_29063 (1).txt'   cv084_15183.txt   cv198_19313.txt   cv312_29308.txt\n",
            " cv010_29063.txt        cv085_15286.txt   cv199_9721.txt    cv313_19337.txt\n",
            "'cv011_13044 (1).txt'   cv086_19488.txt   cv200_29006.txt   cv314_16095.txt\n",
            " cv011_13044.txt        cv087_2145.txt\t  cv201_7421.txt    cv315_12638.txt\n",
            "'cv012_29411 (1).txt'   cv088_25274.txt   cv202_11382.txt   cv316_5972.txt\n",
            " cv012_29411.txt        cv089_12222.txt   cv203_19052.txt   cv317_25111.txt\n",
            "'cv013_10494 (1).txt'   cv090_0049.txt\t  cv204_8930.txt    cv318_11146.txt\n",
            " cv013_10494.txt        cv091_7899.txt\t  cv205_9676.txt    cv319_16459.txt\n",
            "'cv014_15600 (1).txt'   cv092_27987.txt   cv206_15893.txt   cv320_9693.txt\n",
            " cv014_15600.txt        cv093_15606.txt   cv207_29141.txt   cv321_14191.txt\n",
            "'cv015_29356 (1).txt'   cv094_27868.txt   cv208_9475.txt    cv322_21820.txt\n",
            " cv015_29356.txt        cv095_28730.txt   cv209_28973.txt   cv323_29633.txt\n",
            "'cv016_4348 (1).txt'    cv096_12262.txt   cv210_9557.txt    cv324_7502.txt\n",
            " cv016_4348.txt         cv097_26081.txt   cv211_9955.txt    cv325_18330.txt\n",
            "'cv017_23487 (1).txt'   cv098_17021.txt   cv212_10054.txt   cv326_14777.txt\n",
            " cv017_23487.txt        cv099_11189.txt   cv213_20300.txt   cv327_21743.txt\n",
            "'cv018_21672 (1).txt'   cv100_12406.txt   cv214_13285.txt   cv328_10908.txt\n",
            " cv018_21672.txt        cv101_10537.txt   cv215_23246.txt   cv329_29293.txt\n",
            "'cv019_16117 (1).txt'   cv102_8306.txt\t  cv216_20165.txt   cv330_29675.txt\n",
            " cv019_16117.txt        cv103_11943.txt   cv217_28707.txt   cv331_8656.txt\n",
            "'cv020_9234 (1).txt'    cv104_19176.txt   cv218_25651.txt   cv332_17997.txt\n",
            " cv020_9234.txt         cv105_19135.txt   cv219_19874.txt   cv333_9443.txt\n",
            "'cv021_17313 (1).txt'   cv106_18379.txt   cv220_28906.txt   cv334_0074.txt\n",
            " cv021_17313.txt        cv107_25639.txt   cv221_27081.txt   cv335_16299.txt\n",
            "'cv022_14227 (1).txt'   cv108_17064.txt   cv222_18720.txt   cv336_10363.txt\n",
            " cv022_14227.txt        cv109_22599.txt   cv223_28923.txt   cv337_29061.txt\n",
            "'cv023_13847 (1).txt'   cv110_27832.txt   cv224_18875.txt   cv338_9183.txt\n",
            " cv023_13847.txt        cv111_12253.txt   cv225_29083.txt   cv339_22452.txt\n",
            "'cv024_7033 (1).txt'    cv112_12178.txt   cv226_26692.txt   cv340_14776.txt\n",
            " cv024_7033.txt         cv113_24354.txt   cv227_25406.txt   cv341_25667.txt\n",
            "'cv025_29825 (1).txt'   cv114_19501.txt   cv228_5644.txt    cv342_20917.txt\n",
            " cv025_29825.txt        cv115_26443.txt   cv229_15200.txt   cv343_10906.txt\n",
            "'cv026_29229 (1).txt'   cv116_28734.txt   cv230_7913.txt    cv344_5376.txt\n",
            " cv026_29229.txt        cv117_25625.txt   cv231_11028.txt   cv345_9966.txt\n",
            "'cv027_26270 (1).txt'   cv118_28837.txt   cv232_16768.txt   cv346_19198.txt\n",
            " cv027_26270.txt        cv119_9909.txt\t  cv233_17614.txt   cv347_14722.txt\n",
            "'cv028_26964 (1).txt'   cv120_3793.txt\t  cv234_22123.txt   cv348_19207.txt\n",
            " cv028_26964.txt        cv121_18621.txt   cv235_10704.txt   cv349_15032.txt\n",
            "'cv029_19943 (1).txt'   cv122_7891.txt\t  cv236_12427.txt   cv350_22139.txt\n",
            " cv029_19943.txt        cv123_12165.txt   cv237_20635.txt   cv351_17029.txt\n",
            "'cv030_22893 (1).txt'   cv124_3903.txt\t  cv238_14285.txt   cv352_5414.txt\n",
            " cv030_22893.txt        cv125_9636.txt\t  cv239_29828.txt   cv353_19197.txt\n",
            "'cv031_19540 (1).txt'   cv126_28821.txt   cv240_15948.txt   cv354_8573.txt\n",
            " cv031_19540.txt        cv127_16451.txt   cv241_24602.txt   cv355_18174.txt\n",
            "'cv032_23718 (1).txt'   cv128_29444.txt   cv242_11354.txt   cv356_26170.txt\n",
            " cv032_23718.txt        cv129_18373.txt   cv243_22164.txt   cv357_14710.txt\n",
            "'cv033_25680 (1).txt'   cv130_18521.txt   cv244_22935.txt   cv358_11557.txt\n",
            " cv033_25680.txt        cv131_11568.txt   cv245_8938.txt    cv359_6751.txt\n",
            "'cv034_29446 (1).txt'   cv132_5423.txt\t  cv246_28668.txt   cv360_8927.txt\n",
            " cv034_29446.txt        cv133_18065.txt   cv247_14668.txt   cv361_28738.txt\n",
            "'cv035_3343 (1).txt'    cv134_23300.txt   cv248_15672.txt   cv362_16985.txt\n",
            " cv035_3343.txt         cv135_12506.txt   cv249_12674.txt   cv363_29273.txt\n",
            "'cv036_18385 (1).txt'   cv136_12384.txt   cv250_26462.txt   cv364_14254.txt\n",
            " cv036_18385.txt        cv137_17020.txt   cv251_23901.txt   cv365_12442.txt\n",
            "'cv037_19798 (1).txt'   cv138_13903.txt   cv252_24974.txt   cv366_10709.txt\n",
            " cv037_19798.txt        cv139_14236.txt   cv253_10190.txt   cv367_24065.txt\n",
            "'cv038_9781 (1).txt'    cv140_7963.txt\t  cv254_5870.txt    cv368_11090.txt\n",
            " cv038_9781.txt         cv141_17179.txt   cv255_15267.txt   cv369_14245.txt\n",
            "'cv039_5963 (1).txt'    cv142_23657.txt   cv256_16529.txt   cv370_5338.txt\n",
            " cv039_5963.txt         cv143_21158.txt   cv257_11856.txt   cv371_8197.txt\n",
            "'cv040_8829 (1).txt'    cv144_5010.txt\t  cv258_5627.txt    cv372_6654.txt\n",
            " cv040_8829.txt         cv145_12239.txt   cv259_11827.txt   cv373_21872.txt\n",
            "'cv041_22364 (1).txt'   cv146_19587.txt   cv260_15652.txt   cv374_26455.txt\n",
            " cv041_22364.txt        cv147_22625.txt   cv261_11855.txt   cv375_9932.txt\n",
            "'cv042_11927 (1).txt'   cv148_18084.txt   cv262_13812.txt   cv376_20883.txt\n",
            " cv042_11927.txt        cv149_17084.txt   cv263_20693.txt   cv377_8440.txt\n",
            "'cv043_16808 (1).txt'   cv150_14279.txt   cv264_14108.txt   cv378_21982.txt\n",
            " cv043_16808.txt        cv151_17231.txt   cv265_11625.txt   cv379_23167.txt\n",
            "'cv044_18429 (1).txt'   cv152_9052.txt\t  cv266_26644.txt   cv380_8164.txt\n",
            " cv044_18429.txt        cv153_11607.txt   cv267_16618.txt   cv381_21673.txt\n",
            "'cv045_25077 (1).txt'   cv154_9562.txt\t  cv268_20288.txt   cv382_8393.txt\n",
            " cv045_25077.txt        cv155_7845.txt\t  cv269_23018.txt   cv383_14662.txt\n",
            "'cv046_10613 (1).txt'   cv156_11119.txt   cv270_5873.txt    cv384_18536.txt\n",
            " cv046_10613.txt        cv157_29302.txt   cv271_15364.txt   cv385_29621.txt\n",
            "'cv047_18725 (1).txt'   cv158_10914.txt   cv272_20313.txt   cv386_10229.txt\n",
            " cv047_18725.txt        cv159_29374.txt   cv273_28961.txt   cv387_12391.txt\n",
            "'cv048_18380 (1).txt'   cv160_10848.txt   cv274_26379.txt   cv388_12810.txt\n",
            " cv048_18380.txt        cv161_12224.txt   cv275_28725.txt   cv389_9611.txt\n",
            "'cv049_21917 (1).txt'   cv162_10977.txt   cv276_17126.txt   cv390_12187.txt\n",
            " cv049_21917.txt        cv163_10110.txt   cv277_20467.txt   cv391_11615.txt\n",
            " cv050_12128.txt        cv164_23451.txt   cv278_14533.txt   cv392_12238.txt\n",
            " cv051_10751.txt        cv165_2389.txt\t  cv279_19452.txt   cv393_29234.txt\n",
            " cv052_29318.txt        cv166_11959.txt   cv280_8651.txt    cv394_5311.txt\n",
            " cv053_23117.txt        cv167_18094.txt   cv281_24711.txt   cv395_11761.txt\n",
            " cv054_4101.txt         cv168_7435.txt\t  cv282_6833.txt    cv396_19127.txt\n",
            " cv055_8926.txt         cv169_24973.txt   cv283_11963.txt   cv397_28890.txt\n",
            " cv056_14663.txt        cv170_29808.txt   cv284_20530.txt   cv398_17047.txt\n",
            " cv057_7962.txt         cv171_15164.txt   cv285_18186.txt   cv399_28593.txt\n",
            " cv058_8469.txt         cv172_12037.txt   cv286_26156.txt   cv400_20631.txt\n",
            " cv059_28723.txt        cv173_4295.txt\t  cv287_17410.txt   cv401_13758.txt\n",
            " cv060_11754.txt        cv174_9735.txt\t  cv288_20212.txt   cv402_16097.txt\n",
            " cv061_9321.txt         cv175_7375.txt\t  cv289_6239.txt    cv403_6721.txt\n",
            " cv062_24556.txt        cv176_14196.txt   cv290_11981.txt   sample_data\n",
            " cv063_28852.txt        cv177_10904.txt   cv291_26844.txt\n"
          ],
          "name": "stdout"
        }
      ]
    },
    {
      "cell_type": "code",
      "metadata": {
        "id": "28oMtkeTOFsV",
        "colab_type": "code",
        "colab": {}
      },
      "source": [
        "!mkdir neg"
      ],
      "execution_count": 0,
      "outputs": []
    },
    {
      "cell_type": "code",
      "metadata": {
        "id": "NURCC8SKTkIf",
        "colab_type": "code",
        "colab": {
          "base_uri": "https://localhost:8080/",
          "height": 34
        },
        "outputId": "5184d3bd-63d9-4b01-f46c-b6a648017f0c"
      },
      "source": [
        "!mv cv062_24556.txt neg\n",
        "!mv cv056_14663.txt neg\n",
        "!mv cv049_21917.txt neg    \n",
        "!mv cv163_10110.txt   neg\n",
        "!mv cv277_20467.txt   neg\n",
        "!mv cv391_11615.txt neg\n",
        "!mv cv050_12128.txt    neg    \n",
        "!mv cv164_23451.txt   neg\n",
        "!mv cv278_14533.txt    neg\n",
        "!mv cv392_12238.txt neg\n",
        "!mv cv051_10751.txt    neg    \n",
        "!mv cv165_2389.txt\t  neg\n",
        "!mv cv279_19452.txt   neg\n",
        "!mv cv393_29234.txt neg\n",
        "!mv cv052_29318.txt    neg   \n",
        "!mv cv166_11959.txt   neg\n",
        "!mv cv280_8651.txt    neg\n",
        "!mv cv394_5311.txt neg\n",
        "!mv cv053_23117.txt   neg     \n",
        "!mv cv167_18094.txt   neg\n",
        "!mv cv281_24711.txt   neg\n",
        "!mv cv395_11761.txt neg\n",
        "!mv cv054_4101.txt     neg    \n",
        "!mv cv168_7435.txt\t  neg\n",
        "!mv cv282_6833.txt    neg\n",
        "!mv cv396_19127.txt neg\n",
        "!mv cv055_8926.txt     neg    \n",
        "!mv cv169_24973.txt   neg\n",
        "!mv cv283_11963.txt   neg\n",
        "!mv cv397_28890.txt neg"
      ],
      "execution_count": 30,
      "outputs": [
        {
          "output_type": "stream",
          "text": [
            "mv: cannot stat 'cv063_28852.txt': No such file or directory\n"
          ],
          "name": "stdout"
        }
      ]
    },
    {
      "cell_type": "code",
      "metadata": {
        "id": "eKotrybEZiFn",
        "colab_type": "code",
        "colab": {
          "base_uri": "https://localhost:8080/",
          "height": 34
        },
        "outputId": "a183b624-4a01-4177-fb4b-1837e94520e4"
      },
      "source": [
        "!mkdir pos\n"
      ],
      "execution_count": 44,
      "outputs": [
        {
          "output_type": "stream",
          "text": [
            "mkdir: cannot create directory ‘pos’: File exists\n"
          ],
          "name": "stdout"
        }
      ]
    },
    {
      "cell_type": "code",
      "metadata": {
        "id": "L5_oLEkqZpGG",
        "colab_type": "code",
        "colab": {}
      },
      "source": [
        "from google.colab import files"
      ],
      "execution_count": 0,
      "outputs": []
    },
    {
      "cell_type": "code",
      "metadata": {
        "id": "UyT7IXlSZqF_",
        "colab_type": "code",
        "colab": {}
      },
      "source": [
        "uploaded=files.upload()"
      ],
      "execution_count": 0,
      "outputs": []
    },
    {
      "cell_type": "code",
      "metadata": {
        "id": "H8gHs15uaBbo",
        "colab_type": "code",
        "colab": {
          "base_uri": "https://localhost:8080/",
          "height": 462
        },
        "outputId": "9c579bb7-0cbe-4f34-f03e-b7681f7fb70a"
      },
      "source": [
        "uploaded"
      ],
      "execution_count": 48,
      "outputs": [
        {
          "output_type": "execute_result",
          "data": {
            "text/plain": [
              "{'cv000_29590.txt': b'films adapted from comic books have had plenty of success , whether they\\'re about superheroes ( batman , superman , spawn ) , or geared toward kids ( casper ) or the arthouse crowd ( ghost world ) , but there\\'s never really been a comic book like from hell before . \\nfor starters , it was created by alan moore ( and eddie campbell ) , who brought the medium to a whole new level in the mid \\'80s with a 12-part series called the watchmen . \\nto say moore and campbell thoroughly researched the subject of jack the ripper would be like saying michael jackson is starting to look a little odd . \\nthe book ( or \" graphic novel , \" if you will ) is over 500 pages long and includes nearly 30 more that consist of nothing but footnotes . \\nin other words , don\\'t dismiss this film because of its source . \\nif you can get past the whole comic book thing , you might find another stumbling block in from hell\\'s directors , albert and allen hughes . \\ngetting the hughes brothers to direct this seems almost as ludicrous as casting carrot top in , well , anything , but riddle me this : who better to direct a film that\\'s set in the ghetto and features really violent street crime than the mad geniuses behind menace ii society ? \\nthe ghetto in question is , of course , whitechapel in 1888 london\\'s east end . \\nit\\'s a filthy , sooty place where the whores ( called \" unfortunates \" ) are starting to get a little nervous about this mysterious psychopath who has been carving through their profession with surgical precision . \\nwhen the first stiff turns up , copper peter godley ( robbie coltrane , the world is not enough ) calls in inspector frederick abberline ( johnny depp , blow ) to crack the case . \\nabberline , a widower , has prophetic dreams he unsuccessfully tries to quell with copious amounts of absinthe and opium . \\nupon arriving in whitechapel , he befriends an unfortunate named mary kelly ( heather graham , say it isn\\'t so ) and proceeds to investigate the horribly gruesome crimes that even the police surgeon can\\'t stomach . \\ni don\\'t think anyone needs to be briefed on jack the ripper , so i won\\'t go into the particulars here , other than to say moore and campbell have a unique and interesting theory about both the identity of the killer and the reasons he chooses to slay . \\nin the comic , they don\\'t bother cloaking the identity of the ripper , but screenwriters terry hayes ( vertical limit ) and rafael yglesias ( les mis ? rables ) do a good job of keeping him hidden from viewers until the very end . \\nit\\'s funny to watch the locals blindly point the finger of blame at jews and indians because , after all , an englishman could never be capable of committing such ghastly acts . \\nand from hell\\'s ending had me whistling the stonecutters song from the simpsons for days ( \" who holds back the electric car/who made steve guttenberg a star ? \" ) . \\ndon\\'t worry - it\\'ll all make sense when you see it . \\nnow onto from hell\\'s appearance : it\\'s certainly dark and bleak enough , and it\\'s surprising to see how much more it looks like a tim burton film than planet of the apes did ( at times , it seems like sleepy hollow 2 ) . \\nthe print i saw wasn\\'t completely finished ( both color and music had not been finalized , so no comments about marilyn manson ) , but cinematographer peter deming ( don\\'t say a word ) ably captures the dreariness of victorian-era london and helped make the flashy killing scenes remind me of the crazy flashbacks in twin peaks , even though the violence in the film pales in comparison to that in the black-and-white comic . \\noscar winner martin childs\\' ( shakespeare in love ) production design turns the original prague surroundings into one creepy place . \\neven the acting in from hell is solid , with the dreamy depp turning in a typically strong performance and deftly handling a british accent . \\nians holm ( joe gould\\'s secret ) and richardson ( 102 dalmatians ) log in great supporting roles , but the big surprise here is graham . \\ni cringed the first time she opened her mouth , imagining her attempt at an irish accent , but it actually wasn\\'t half bad . \\nthe film , however , is all good . \\n2 : 00 - r for strong violence/gore , sexuality , language and drug content \\n',\n",
              " 'cv001_18431.txt': b'every now and then a movie comes along from a suspect studio , with every indication that it will be a stinker , and to everybody\\'s surprise ( perhaps even the studio ) the film becomes a critical darling . \\nmtv films\\' _election , a high school comedy starring matthew broderick and reese witherspoon , is a current example . \\ndid anybody know this film existed a week before it opened ? \\nthe plot is deceptively simple . \\ngeorge washington carver high school is having student elections . \\ntracy flick ( reese witherspoon ) is an over-achiever with her hand raised at nearly every question , way , way , high . \\nmr . \" m \" ( matthew broderick ) , sick of the megalomaniac student , encourages paul , a popular-but-slow jock to run . \\nand paul\\'s nihilistic sister jumps in the race as well , for personal reasons . \\nthe dark side of such sleeper success is that , because expectations were so low going in , the fact that this was quality stuff made the reviews even more enthusiastic than they have any right to be . \\nyou can\\'t help going in with the baggage of glowing reviews , which is in contrast to the negative baggage that the reviewers were likely to have . \\n_election , a good film , does not live up to its hype . \\nwhat makes _election_ so disappointing is that it contains significant plot details lifted directly from _rushmore_ , released a few months earlier . \\nthe similarities are staggering : \\ntracy flick ( _election_ ) is the president of an extraordinary number of clubs , and is involved with the school play . \\nmax fischer ( _rushmore_ ) is the president of an extraordinary number of clubs , and is involved with the school play . \\nthe most significant tension of _election_ is the potential relationship between a teacher and his student . \\nthe most significant tension of _rushmore_ is the potential relationship between a teacher and his student . \\ntracy flick is from a single parent home , which has contributed to her drive . \\nmax fischer is from a single parent home , which has contributed to his drive . \\nthe male bumbling adult in _election_ ( matthew broderick ) pursues an extramarital affair , gets caught , and his whole life is ruined . \\nhe even gets a bee sting . \\nthe male bumbling adult in _rushmore_ ( bill murray ) pursues an extramarital affair , gets caught , and his whole life is ruined . \\nhe gets several bee stings . \\nand so on . \\nwhat happened ? \\nhow is it that an individual screenplay ( _rushmore_ ) and a novel ( _election_ ) contain so many significant plot points , and yet both films were probably not even aware of each other , made from two different studios , from a genre ( the high school geeks revenge movie ) that hadn\\'t been fully formed yet ? \\neven so , the strengths of _election_ rely upon its fantastic performances from broderick , witherspoon , and newcomer jessica campbell , as paul\\'s anti-social sister , tammy . \\nbroderick here is playing the mr . rooney role from _ferris bueller_ , and he seems to be having the most fun he\\'s had since then . \\nwitherspoon is a revelation . \\nit\\'s early in the year , it\\'s a comedy , and teenagers have little clout , but for my money , witherspoon deserves an oscar nomination . \\nand once campbell\\'s character gets going , like in her fantastic speech in the gymnasium , then you\\'re won over . \\none thing that\\'s been bothering me since i\\'ve seen it . \\nthere is an extraordinary amount of sexuality in this film . \\ni suppose that , coming from mtv films , i should expect no less . . . \\nbut the film starts off light and airy , like a sitcom . \\nas the screws tighten , and the tensions mount , alexander payne decides to add elements that , frankly , distract from the story . \\nit is bad enough that mr . m doesn\\'t like tracy\\'s determination to win at all costs , but did they have to throw in the student/teacher relationship ? \\neven so , there\\'s no logical reason why mr . m has an affair when he does . \\nthere\\'s a lot to like in _election_ , but the plot similarities to _rushmore_ , and the tonal nosedive it takes as it gets explicitly sex-driven , mark this as a disappointment . \\n',\n",
              " 'cv002_15918.txt': b\"you've got mail works alot better than it deserves to . \\nin order to make the film a success , all they had to do was cast two extremely popular and attractive stars , have them share the screen for about two hours and then collect the profits . \\nno real acting was involved and there is not an original or inventive bone in it's body ( it's basically a complete re-shoot of the shop around the corner , only adding a few modern twists ) . \\nessentially , it goes against and defies all concepts of good contemporary filmmaking . \\nit's overly sentimental and at times terribly mushy , not to mention very manipulative . \\nbut oh , how enjoyable that manipulation is . \\nbut there must be something other than the casting and manipulation that makes the movie work as well as it does , because i absolutely hated the previous ryan/hanks teaming , sleepless in seattle . \\nit couldn't have been the directing , because both films were helmed by the same woman . \\ni haven't quite yet figured out what i liked so much about you've got mail , but then again , is that really important ? \\nif you like something so much , why even question it ? \\nagain , the storyline is as cliched as they come . \\ntom hanks plays joe fox , the insanely likeable owner of a discount book chain and meg ryan plays kathleen kelley , the even more insanely likeable proprietor of a family-run children's book shop called , in a nice homage , the shop around the corner . \\nfox and kelley soon become bitter rivals because the new fox books store is opening up right across the block from the small business . \\nlittle do they know , they are already in love with each other over the internet , only neither party knows the other person's true identity . \\nthe rest of the story isn't important because all it does is serve as a mere backdrop for the two stars to share the screen . \\nsure , there are some mildly interesting subplots , but they all fail in comparison to the utter cuteness of the main relationship . \\nall of this , of course , leads up to the predictable climax . \\nbut as foreseeable as the ending is , it's so damn cute and well-done that i doubt any movie in the entire year contains a scene the evokes as much pure joy as this part does . \\nwhen ryan discovers the true identity of her online love , i was filled with such , for lack of a better word , happiness that for the first time all year , i actually left the theater smiling . \\n\",\n",
              " 'cv003_11664.txt': b' \" jaws \" is a rare film that grabs your attention before it shows you a single image on screen . \\nthe movie opens with blackness , and only distant , alien-like underwater sounds . \\nthen it comes , the first ominous bars of composer john williams\\' now infamous score . \\ndah-dum . \\nfrom there , director steven spielberg wastes no time , taking us into the water on a midnight swim with a beautiful girl that turns deadly . \\nright away he lets us know how vulnerable we all are floating in the ocean , and once \" jaws \" has attacked , it never relinquishes its grip . \\nperhaps what is most outstanding about \" jaws \" is how spielberg builds the movie . \\nhe works it like a theatrical production , with a first act and a second act . \\nunlike so many modern filmmakers , he has a great deal of restraint , and refuses to show us the shark until the middle of the second act . \\nuntil then , he merely suggests its presence with creepy , subjective underwater shots and williams\\' music . \\nhe\\'s building the tension bit by bit , so when it comes time for the climax , the shark\\'s arrival is truly terrifying . \\nhe doesn\\'t let us get bored with the imagery . \\nthe first act opens with police chief martin brody ( roy scheider ) , a new york cop who has taken an easy , peaceful job running the police station on amity island , a fictitious new england resort town where there hasn\\'t been a murder or a gun fired in 25 years . \\nthe island is shaken up by several vicious great white shark attacks right before the fourth of july , and the mayor , larry vaughn ( murray hamilton ) , doesn\\'t want to shut down the beaches because the island is reliant on summer tourist money . \\nbrody is joined by matt hooper ( richard dreyfuss ) , a young , ambitious shark expert from the marine institute . \\nhooper is as fascinated by the shark as he is determined to help brody stop it -- his knowledge about the exact workings of the shark ( \" it\\'s a perfect engine , an eating machine \" ) make it that much more terrifying . \\nwhen vaughn finally relents , hooper and brody join a crusty old shark killer named quint ( robert shaw ) on his decrepit boat , the orca , to search for the shark . \\nthe entire second act takes place on the orca as the three men hunt the shark , and inevitably , are hunted by it . \\n \" jaws \" is a thriller with a keen sense of humor and an incredible sense of pacing , tension , and horror . \\nit is like ten movies all rolled into one , and it\\'s no wonder it took america by storm in the summer of 1975 , taking in enough money to crown it the box office champ of all time ( until it was unceremoniously dethroned in 1977 by \" star wars \" ) . \\neven today , fascination with this film is on par with hitchcock\\'s \" psycho , \" and it never seems to age . \\nalthough grand new technology exists that makes the technical sequences , including several mechanical sharks , obsolete , none of it could improve the film because it only would lead to overkill . \\nthe technical limitations faced by spielberg in 1975 may have actually produced a better film because it forced him to rely on traditional cinematic elements like pacing , characterization , sharp editing , and creative photography , instead of simply dousing the audience with digital shark effects . \\nscheider , dreyfuss , and shaw were known actors at the time \" jaws \" was made , but none of them had the draw of a robert redford or paul newman . \\nnevertheless , this film guaranteed them all successful careers because each gave an outstanding performance and refused to be overshadowed by the shark . \\nscheider hits just the right notes as a sympathetic husband and father caught in the political quagmire of doing what\\'s right and going against the entire town . \\n \" it\\'s your first summer here , you know , \" mayor vaughn warns him . \\ndreyfuss , who had previously been seen in \" american graffiti \" ( 1973 ) and \" the apprenticeship of duddy kravitz \" ( 1974 ) gives a surprisingly mature , complex performance for someone who had literally only played kids and teenagers . \\nhowever , most outstanding is the gnarled performance by robert shaw as the movie\\'s captain ahab , a performance sorely overlooked by the academy awards . \\nbordering of parody , shaw plays quint as a grizzled old loner whose machismo borders on masochism . \\nhe\\'s slightly deranged , and shaw\\'s performance is almost a caricature . \\nhowever , there is one scene late in the film , when he and brody and hooper are below deck on the orca comparing scars . \\nquint is drawn into telling the story of his experiences aboard the u . s . s . \\nindianapolis , a navy ship in world war ii that was sunk by the japanese . \\nhis tale of floating in the water for more than a week with over 1 , 000 other men while swarms of sharks slowly devoured them them is actually more hair-raising than anything spielberg put on screen . \\nshaw delivers the story in one long take , and it is the best acting in the film . \\nof course , we can\\'t leave out the shark itself ; with its black eyes , endless rows of teeth , and insatiable urge to eat , it is basically the epitome of all mankind\\'s fears about what is unknown and threatening in nature . \\na shark is such a perfect nemesis it is real -- having survived sinch the dinosaurs , great whites do exist , they can be as large as the shark in \" jaws , \" and they are a threat . \\nevery one of spielberg\\'s subjective underwater shots makes us feel queasy because lets us see how we look to the shark : a bunch of writihing , dangling , completely unprotected legs just ready to be chomped into . \\nthe shark in \" jaws \" was actually a combination of actual footage and five different mechanical sharks ( all nicknamed \" bruce \" by the crew ) built to be shot from different angles . \\nmany have forgotten , but \" jaws \" was a sort of precursor to \" waterworld \" ( 1995 ) , a movie\\'s who soggy production and cost overruns had universal studios worried about a bomb . \\nbut , as we can see now , spielberg overcame all the obstacles , and delivered one of the finest primal scare-thrillers ever to come out of hollywood . \\n',\n",
              " 'cv004_11636.txt': b'moviemaking is a lot like being the general manager of an nfl team in the post-salary cap era -- you\\'ve got to know how to allocate your resources . \\nevery dollar spent on a free-agent defensive tackle is one less dollar than you can spend on linebackers or safeties or centers . \\nin the nfl , this leads to teams like the detroit lions , who boast a superstar running back with a huge contract , but can only field five guys named herb to block for him . \\nin the movies , you end up with films like \" spawn \" , with a huge special-effects budget but not enough money to hire any recognizable actors . \\njackie chan is the barry sanders of moviemaking . \\nhe spins and darts across the screen like sanders cutting back through the defensive line . \\nwatching jackie in operation condor as he drives his motorcycle through the crowded streets of madrid , fleeing an armada of pursuers in identical black compact cars , is reminiscent of sanders running for daylight with the chicago bears in hot pursuit , except that sanders doesn\\'t have to worry about rescuing runaway baby carriages . \\nbut like the lions star , jackie doesn\\'t have anybody to block for him . \\nalmost every cent that\\'s invested in a jackie chan movie goes for stunts , and as chan does his own stunts , the rest of the money goes to pay his hospital bills . \\nthis leaves about 75 cents to pay for things like directors ( chan directs ) , scripts and dubbing and supporting characters , not to mention the hideous title sequence . \\nthis also explains why the movie was shot in odd places like morocco and spain . \\n ( chan\\'s first release in this country , \" rumble in the bronx \" , was supposedly set in new york , but was filmed in vancouver , and in the chase scenes the canadian rockies are clearly visible . ) \\nheck , jackie doesn\\'t even have enough money for a haircut , looks like , much less a personal hairstylist . \\nin condor , chan plays the same character he\\'s always played , himself , a mixture of bruce lee and tim allen , a master of both kung-fu and slapstick-fu . \\njackie is sent by the un to retrieve a cache of lost nazi gold in the north african desert , and is chased by a horde of neo-nazi sympathizers and two stereotypical arabs ( one of the things i like about jackie chan movies : no political correctness ) . \\nhe is joined by three women , who have little to do except scream , \" jackie , save us ! \" , and misuse firearms . \\nthe villain is an old nazi whose legs were broken in the secret base so that he has to be carried everywhere , and he\\'s more pathetic than evil . \\nen route , we have an extended motorcycle chase scene , a hilarious fight in the moroccan version of motel 6 with the neo-nazis , and two confrontations with savage natives . \\nonce at the secret desert base , there is a long chop-socky sequence , followed by the film\\'s centerpiece , a wind-tunnel fight that\\'s even better than the one in face/off . \\nthis is where the money was spent , on well-choreographed kung-fu sequences , on giant kevlar hamster balls , on smashed-up crates of bananas , and on scorpions . \\nignore the gaping holes in the plot ( how , exactly , if the villain\\'s legs were broken , did he escape from the secret nazi base , and why didn\\'t he take the key with him ? ) . \\ndon\\'t worry about the production values , or what , exactly , the japanese girl was doing hitchhiking across the sahara . \\njust go see the movie . \\noperation condor has pretentions of being a \" raiders of the lost ark \" knockoff , but one wonders what jackie could do with the raiders franchise blocking for him -- with a lawrence kazdan screenplay , a john williams score , spielberg directing and george lucas producing , condor might be an a+ movie . \\nhowever , you\\'ve got to go with what you\\'ve got , and what you\\'ve got in jackie chan is something special -- a talent that mainstream hollywood should , could , and ought to utilize . \\n',\n",
              " 'cv005_29443.txt': b'on june 30 , 1960 , a self-taught , idealistic , yet pragmatic , young man became , at age 36 , the first head of government of a newly independent african state , formerly the belgian congo . \\ntwo months later , he was ousted from his powerful position and hunted by government troops until he was captured and brutally murdered along with two aides . \\nthis little-known story of this meteoric rise and fall is told my international filmmaker raoul peck in \" lumumba . \" \\npatrice lumumba\\'s ( eriq ebouaney ) story has been told previously by helmer peck in his 1991 award winning documentary , \" lumumba - death of a prophet , \" virtually guaranteeing that his new , fictional account of a patriot remains true to its subject . \\npeck , with co-writer pascal bonitzer , begins at the end of the story of the young political leader . \\nwe watch as two white men perform the gruesome task of dismembering the bodies of three black men . \\nimages of hatchets , saws and fast-emptying whiskey bottles accompany the grisly image . \\njump back a few years to a meeting among the black leaders in the belgian-owned congo . \\na third class postal worker , lumumba , speaks his mind to heads of the most powerful tribes , proclaiming himself not tribal , not regional , but a national leader . \\nhis small , mobile party , the congolese national movement ( mnc ) is gaining prominence and patrice leaves his clerical job to sell beer , and get his face known , in the bustling capital , stanleyville . \\nat a time when the colonial empires are falling down around the world , lumumba is in the right place at the right time and , through political savvy and chess-like manipulation , achieves a position of leadership of the mnc . \\nas the date for independence approaches , he tactically positions himself to be the new nation\\'s first prime minister and defense minister , supporting the presidency of joseph kasa vubu ( maka kotto ) . \\nthe coalition he created soon starts to fall apart as the former belgian masters continue to exert influence on the struggling nation as they strive to maintain economic hold on the country\\'s vast natural resources of copper , diamonds , gold and more . \\nlumumba won\\'t seek the help of the us , knowing that they would try to create de facto american control of the fledgling government . \\nhis initial investigation into soviet assistance immediately tags patrice as a communist and his integrity is overshadowed by the cold war threat of russian domination . \\nthe situation goes from bad to worse as the army mutinies , the remaining whites begin to evacuate or arm themselves , belgian troops violently intervene , the lucrative katanga province succeeds under the leadership of rival moise tschombe ( pascal nzonzi ) and lumumba is refused access to his own country when he returns from a conference abroad . \\nthis tumultuous and little known period of modern african history saw a score of nations struggling for independence from the sometimes-odious colonialists who have ruled much of the world from their european seats of power for centuries . \\npeck focuses his story on familiar material that strives to give an honest portrayal of patrice lumumba , his friend and foes and the independence movements that gripped africa in the 50\\'s and 60\\'s . \\n ( during the time the story takes place , many new nations , including nigeria and somalia , were born , with varying degrees of success and failure , usually dependent upon which country colonized them . \\nsome colonial masters were better than others . ) \\nthe effort involved in \" lumumba \" is quite ambitious as peck and his crew before and behind the camera strive to bring to life this slice of world history that might have gone unexplored for decades , if at all . \\nproduction values are first rate on what must be a small , by us standards , budget . \\nthe period feel and realistic african settings are nicely maintained in a production that traveled from zimbabwe to mozambique . \\nthe screenplay covers a lot of ground and does yeoman\\'s work in providing a great deal of detailed history while trying to do justice to the story of lumumba\\'s life . \\nthe political side of things is evenly told in a linear , straightforward manner that teaches , not preaches . \\nit concentrates on the good deeds of the man , if a bit as a stalwart saint , but doesn\\'t embellish on a larger than life persona . \\nthe family side of patrice\\'s life is handled in several , perfunctory and brief interludes that show him talking to one of his children , embracing his wife or lamenting the death of his child . \\ni know the intent is to flesh the man out , but too short a shrift is given to the family man side of lumumba . \\nthe story , as such , has a lopsided feel about it . \\nhigh marks go to eriq ebouaney as the title character . \\nthe actor gives a convincing , charismatic performance as the multifaceted , politically deft patrice lumumba who has the good of his people and his country as the force driving his own ambitions . \\nin true docudrama tradition , the supporting cast does not outshine the star , complementing his good efforts , instead . \\n \" lumumba \" is a solid , interesting , educational and honest docudrama that should appeal to film buffs and politicos , both . \\nit has more intelligence in its telling than anything i\\'ve seen out of hollywood for months and i give it a b+ . \\n',\n",
              " 'cv006_15448.txt': b\"apparently , director tony kaye had a major battle with new line regarding his new film , american history x . i don't know the details of the fight , but it seems that he is not happy with the final product , and nearly removed his name from the credits altogether . \\ni've heard about this kind of thing happening before , and it makes me wonder how much input a studio has over the films they produce . \\nas it is , i found american history x to be an extremely good film , not just because of tony kaye's focused look at the touchy subject of racism , but because of a powerful , charismatic performance from edward norton . \\nit's hard to believe that it has only been two years since norton's fantastic role in primal fear , but , here he is now , starring in his own film and making himself a star . \\nnorton is one of those performers who becomes his character , and his work in american history x is one of the very best performances this year . \\nhe plays a young man named derek vinyard , a skinhead living in venice beach with his brother , danny ( edward furlong ) , mother ( beverly d'angelo ) , and sister , davin ( jennifer lien ) . \\nthe film opens with a flashback , in which derek brutally kills two black men vandalizing his car . \\nwe find out that this lands him in prison , and the film from that point is seen through the eyes of danny . \\nin the present-time of the film , danny is in high school , and eager to follow the footsteps of his brother . \\nmuch of the film is told in flashback , and we see the path that leads to derek's adoption of white supremacy . \\nwhen derek is released , having served three years in prison , he finds that his brother is now a full-blown skinhead ; derek , however , has given up the violence , and tries to get his brother to understand why racism and the violence that comes with it are bad things . \\nwhat makes this all interesting is that these two young men are not stupid , thoughtless people -- they are intelligent and articulate , and voice their beliefs in disturbingly straightforward terms . \\nit's hard to make a controversial movie and not preach , but kaye has found the right note for his material . \\nbecause american history x is a mainstream film , there has to be a redemption phase for our main character -- some people may think that this is the only way to make him sympathetic . \\ni partially disagree with this , because , although i do not advocate racism in any way , it's interesting the way kaye presents derek -- he is a loud , obnoxious man , but he's also very smart . \\nthe reasons for why he becomes a skinhead are believable -- his father was arbitrarily killed by a group of black men . \\nit's clear that he's passionate about his beliefs , and that he's not just a punk looking for an excuse to beat people up . \\nof course , it helps that kaye has an actor as talented as norton to play this part . \\nit's astonishing how frightening norton looks with a shaved head and a swastika on his chest . \\nin addition to getting the look just right , he's perfect for this role -- derek requires intelligence , depth , and a whole lot of shouting , and norton does it all with ease . \\neven when he's at his meanest , derek has a likable quality to him , and that's a gutsy approach when telling a story about a skinhead . \\nwhat adds depth to the story is a subplot in which the principal of danny's school ( avery brooks ) becomes obsessed with purging the hatred from danny . \\nthe other performances are all terrific , with standouts from furlong , d'angelo , and lien . \\nvisually , the film is very powerful . \\nkaye indulges in a lot of interesting artistic choices , and most of them work nicely -- lots of slow-motion and strange camera angles add to a moody atmosphere . \\nbut , like a lot of movies lately , american history x skims past greatness in the last few minutes . \\nalthough the climactic scene is very moving , the picture ends with a pretentious , preachy resolution featuring a brief narration from a character who was killed . \\nfor a movie so smart a subtle up until that point , it felt like a slap in the face to be hand-fed a theme in such a simplistic way . \\nit makes me wonder what , exactly , tony kaye disliked about the final version of his film . \\nperhaps this last scene was the problem . \\nit's hard to imagine any director not being at least partially pleased with a film this good -- in a time when so many movies are timid and weak , american history x manages to make a compelling argument for racism without advocating it any way . \\n\",\n",
              " 'cv007_4968.txt': b'one of my colleagues was surprised when i told her i was willing to see betsy\\'s wedding . \\nand she was shocked to hear that i actually liked it . \\nher reaction was understandable when you consider that the film revolves around molly ringwald , who hasn\\'t made a worthwhile film since 1986 . \\nbut the fact is , betsy\\'s wedding is also an alan alda film . \\nand while ringwald has been making duds for the last four years , alda has been involved with several noteworthy projects , including crimes and misdemeanors and a new life . \\nwritten and directed by alda , betsy\\'s wedding is a vibrant slice-of-life , mixing a few dramatic moments into a big bowl of whimsical humor . \\nalda\\'s comic elixir is smooth and refreshing--and a welcome change of pace from the usual summer fare . \\nas bride and groom , molly ringwald and dylan walsh are the pivotal characters in the film , but they are by far the least interesting . \\nwalsh is a nonentity , with all the screen presence of a door knob . \\nringwald is simply unbearable and is easily the weakest link in the chain . \\nshe looks hideous with her short-cropped orange hair , red lip-stick and grotesque outfits . \\nshe\\'s supposed to be a dress designer , but she looks more like a clown . \\nand to make matters worse , ringwald\\'s performance matches her appearance . \\nthankfully , alda keeps ringwald\\'s screen time to a minimum ; he is far more interested in the colorful periphery characters . \\nthe wedding is just a device to bring together the bride\\'s working-class , italian family and the groom\\'s rich , gentile family . \\nringwald\\'s folks are homey and down-to-earth , with alda as her free-spirited father , madeline kahn as her practical mother , and ally sheedy as her lonely sister . \\nwalsh\\'s clan , on the other hand , is prim , proper and ostentatious . \\nwhen the two families meet and mingle , the movie becomes a story of culture clash , or as one character puts it , \" money versus values . \" \\nally sheedy , in a wonderfully understated performance , is one of the film\\'s most pleasant surprises . \\nsheedy expresses more with just her eyes than ringwald does with her entire body . \\nit\\'s anthony lapaglia , however , who seizes the spotlight . \\nlapaglia plays stevie dee , a suave , overly polite mafioso who is formally courting sheedy with old-fashioned chivalry . \\nlapaglia\\'s sincere but dim-witted character is a riot . \\nand what\\'s uncanny is that lapaglia is a dead ringer for robert de niro , with a little bit of alec baldwin thrown in for good measure . \\nlapaglia seems to have attended the de niro school of gangster acting , and his inspired performance is partly a tribute to his role-model and partly a rip-off . \\ni don\\'t know whether to say a star is born or a star is re-born , but i do know that lapaglia\\'s over-the-top performance should not be missed . \\nthe scrumptious comic acting , however , extends well beyond sheedy and lapaglia . \\njoe pesci , in particular , sinks his teeth into his role as alda\\'s unscrupulous brother-in-law , a slum lord with mob ties , who is cheating on his wife ( catherine o\\'hara ) . \\nalda , faced with challenge of both directing and acting , somehow finds just the right comic touch as the bride\\'s financially-strapped father , a carpenter whose dreams are bigger than his wallet . \\nthe film adopts alda\\'s psychological point of view as he tries to one : plan the wedding , and two : pay for it . \\nas a filmmaker , alda\\'s style of humor is remarkably restrained and tasteful . \\nand while he doesn\\'t have the comic genius of a woody allen , alda does possess the inspiration to make movies which are ten times more entertaining than the slop which usually passes for comedy . \\n',\n",
              " 'cv008_29435.txt': b'after bloody clashes and independence won , lumumba refused to pander to the belgians , who continued a condescending and paternalistic relationship with the congo . \\ntheir officers , particularly general janssens ( rudi delhem ) in the force publique , the congo\\'s army , caused rebellions , undermining lumumba , who was outraged at the rape and murder of belgian nationals . \\nwith unrest building , moise tshombe ( pascal nzonzi ) and the province of katanga , which contained 70 percent of the country\\'s resources , proclaimed secession . \\nlumumba replaced janssens , making mobutu a colonel , and went on a pacification \\ntour with congolese president joseph kasa vubu ( maka kotto ) , but it was too late . \\n\\'when you want to drown a dog , you say it has rabies , \\' prophesies lumumba of his own fate . \\npeck and bonitzer do an exemplary job telling a complicated tale with a myriad of players , although they frequently succumb to cliche , particularly regarding lumumba\\'s private life . \\npeck\\'s script illuminates bantu sayings like \\'the hand that gives , rules\\' when lumumba uses it with the american ambassador . \\npeck\\'s direction is less assured , with many scenes unfortunately playing like standard television fare . \\nhe\\'s served well , though , by his casting of ebouaney in the title role . \\nebouaney is dynamic , radiating his character\\'s fierce passion for his people and his country . \\nlumumba\\'s intelligence and ability to strategize , even as he\\'s cornered by insurmountable odds , are given life by ebouaney . \\npeck\\'s subject and lead actor elevate his film above its mediocre production . \\n \" lumumba \" is a story that deserves to be told and ebouaney\\'s performance makes the tragedy personally felt . \\n',\n",
              " 'cv009_29592.txt': b\"the american action film has been slowly drowning to death in a sea of asian wire-fu copycats . \\nit's not a pretty death , and it's leaving the likes of schwartznager , stallone , and van damme wearing cement galoshes at the bottom of a kung fu sea . \\nsometimes , the mix results in a mind-blowing spectacle unlike any other . \\nquality action with amazing and exciting stunt work , as in 1999's the matrix , can be a real gem . \\nbut too often hollywood gets it wrong , even when they pay off chinese directors . \\nflying ninjas and floating karate masters have been replaced by soaring bronx detectives and slow motion kicking scientists . \\nmostly it's laughable . \\nin hollywood's rush to emulate the success of the matrix , trademark asian stunt choreography has become more of a joke than an art form . \\nbut iron monkey , the latest asian import , shows us how to get it right . \\niron monkey ( actually a reissue of a 1993 film ) is the story of a 19th chinese vigilante ( rongguang yu ) , fighting with his own unique style of shaolin kung fu for the rights of the oppressed and the bellies of the hungry . \\nbut it is also a piece of the narrative of legendary chinese film hero wong fei-hong , most recently seen in one of the most overlooked , and possibly best films of 2000 , drunken master 2 ( released in the u . s . as the legend of drunken master ) . \\nunlike drunken master 2 , which stars jackie chan as an adult fei-hong , iron monkey finds a much younger fei-hong ( sze-man tsang ) and his father wong kei-ying ( yen chi dan ) thrust into the middle of iron monkey's fight against oppression . \\niron monkey succeeds as no kung fu film since drunken master 2 . at times , fighting styles , especially that of monkey himself , do devolve into the ridiculous twinkle-toed floating of films like crouching tiger , hidden dragon , director yuen wo ping eventually remembers to bring his action scenes back to earth . \\niron monkey is at its heart a hardcore , kung fu action film rather than any kind of drama a la crouching tiger . \\nhowever , there are brief moments of profoundness shared between characters , such as those that pass between our outlaw hero and his good-hearted but misguided enemy , chief fox . \\nin those moments , and in others , iron monkey manages to transcend its mindless kung fu nature to touch the hearts and minds of its audience . \\nwhile in no way the equal of a masterpiece like drunken master 2 , iron monkey dances quite nicely to the invading kung fu tune . \\naka siunin wong fei-hung tsi titmalau . \\n\",\n",
              " 'cv010_29198.txt': b'after watching \" rat race \" last week , i noticed my cheeks were sore and realized that , when not laughing aloud , i had held a grin for virtually all of the film\\'s 112 minutes . \\nsaturday night , i attended another sneak preview for the movie and damned if i didn\\'t enjoy it as much the second time as the first . \\n \" rat race \" is a great goofy delight , a dandy mix of energetic performances , inspired sight gags and flat-out silliness . \\nhands down , this is the most fun film of the summer . \\nthe movie begins with zippy retro-style opening credits that look like they were torn straight out of a \\'60s slapstick comedy , featuring animated photos of the cast attached to herky-jerky bodies bounding around the screen . \\nthen comes the setup . \\ndonald sinclair ( john cleese ) , the extremely rich owner of the venetian hotel and casino in las vegas , enjoys concocting unusual bets for his high rolling clients . \\nto that end , he places a half dozen very special tokens in his slot machines . \\ngathering together the lucky token holders , he explains , \" today you have a chance to play a game where the odds of winning are one in six . \" \\nthe competition is simple : each contestant gets a key that opens a locker in silver city , n . m . , containing $2 million in cash . \\nthere is a transmitter in every key , so that sinclair and his cronies can keep track of who is ahead . \\nthe race has no rules ? whichever contestant reaches the locker first gets the money . \\nsince it would be wrong to spoil any of the jokes , let\\'s use the next few paragraphs to profile the racers . \\ndecked out in flashy , trashy clothing and sporting big hair , vera baker ( whoopi goldberg ) is in town to reunite with the daughter she gave up for adoption as a baby . \\nshe finds that grown-up merrill ( lanai chapman ) is erudite , conservative and more than a little bit wary of this stranger trying to jump into her life . \\nthrown together , it becomes clear that both women share a fierce competitive nature . \\nowen templeton ( cuba gooding jr . ) is currently the most hated man in america . \\nan nfl referee , he cost gamblers all over the country enormous amounts of money by blowing a call in a high-profile game . \\nafter escaping from a vengeful cab driver , owen gets to new mexico by masquerading as the driver for a busload of lucy ricardo impersonators heading to a convention . \\nmr . pollini ( rowan atkinson ) is a cheerful , odd little italian man on holiday in america . \\nhe also is narcoleptic and falls asleep at the most inopportune times . \\npollini hitches a ride with zack ( wayne knight ) , a hyper-tense ambulance driver carrying a human heart across country for a transplant operation . \\nrandy pear ( jon lovitz ) promised his wife beverly ( kathy najimy ) and two kids a fun-filled vacation in las vegas . \\nfearful that beverly will be angry over his involvement in the race , he claims that he must travel to silver city for a job interview . \\nbeverly insists the family stay together , so they hop in the mini-van and tear off into the desert . \\nbrothers duane ( seth green ) and blaine ( vince vieluf ) cody are young , crooked and stupid . \\nblaine has a speech impediment due to his poorly self-done tongue piercing , and duane is the only person who can come close to understanding him . \\nthe boys will stop at nothing to reach their goal . \\nfinally , nick shaffer ( breckin meyer ) is a no-nonsense lawyer-in-training who recruits helicopter pilot tracy faucet ( amy smart ) for the journey . \\nat first glance , they seem blandly wholesome , but all that changes when tracy buzzes the home of her boyfriend shawn ( dean cain ) and spies him swimming with another woman . \\ndirector jerry zucker ( \" airplane , \" \" ghost \" ) leaps from racer to racer , periodically returning to las vegas where sinclair and mr . grisham ( dave thomas ) , his personality-impaired right hand man , continue cooking up bizarre bets for the gamblers . \\nas with any zucker production , a few jokes fall flat , but the momentum of the comedy zooms past those missteps . \\nhigh points for me include a bit involving kathy bates as a roadside squirrel salesperson and an intricately set up gag that carries jon lovitz and family from a bizarre museum to an outdoor rally , with an utterly tasteless and screamingly funny pay-off . \\nhad i been part of the filmmaking team , i would have ditched a joke where a key is dropped into a baby\\'s clothes and instead had the key get lost in the cleavage of a dozing society matron . \\nit would have drawn the same laugh without the squirm-inducing hint of child molestation . \\ni also would have selected a different band for a concert sequence . \\nmy god , do we really need yet another movie with smash mouth performing \" all star ? \" \\nbut enough carping . \\n \" rat race \" is a riot , with terrific no-holds-barred performances from the diverse cast . \\nsee it , see it again and when the dvd comes out , buy it , because a movie this hilarious will surely have outtakes to die for . \\n',\n",
              " 'cv011_12166.txt': b'i\\'ve noticed something lately that i\\'ve never thought of before . \\npseudo- substance - hollywood faking deep meanings in their films . \\nhave you ever seen a movie that you really enjoyed , then when you look back , you realize there was something missing ? \\nmore and more , filmmakers seem to be putting out well rehearsed , melodramatic films that evoke strong connotations of being a great film , but if you step aside and reflect on your movie going experience , you may just discover nothing more than elegantly presented fluff . \\ni\\'m not trying to say city of angels is that bad . \\nit had a lot going for it , but somewhere along the way , it faltered . \\nsomehow , underneath the seemingly poetic beauty of it all , there was a gigantic hole somebody covered with iridescent performances and glossy cinematography . \\nthe predictable ending that shattered our hopes ( even though we saw it coming ) only added to the disappointment . \\nbut for over an hour , city of angels is well worth the time . \\nnicolas cage is seth , a guardian angel who , like hundreds ( likely thousands or even millions ) of other angels , spends eternity watching over the citizens of mortality ; humans never aware of how much celestial intervention occurs in their life . \\nmeg ryan , in her most subdued performance yet , plays maggie , a doctor who begins to ponder exactly who it is we\\'re fighting against when we fight to keep someone alive . \\nafter losing a patient on the surgery table , these questions envelope maggie , and seth , the angel who was there to oversee the patient\\'s transition into the afterlife , is immediately captivated by the doctor . \\nhe begins following and observing maggie , falling more and more in love with her everyday . \\nangels , who we quickly learn are not and never were humans , can not experience human sensations such as taste and touch , but they do have the ability to make themselves seen to anyone they desire . \\nseth\\'s adoration is too much to resist , and eventually he does appear to maggie , quite regularly , although such a thing seems taboo among the angelic community . \\nthe angels are interestingly presented , all of them dressed in black and more reminiscent of hitmen than traditional glowing white entities , but it\\'s a nice touch that never seems like a mere attempt at uniqueness . \\ncage is a wonderfully versatile actor ( think face/off , raising arizona , and it could happen to you - what a combo ! ) who slips into the role of a heavenly agent quite nicely but threatens sappiness more than once . \\nit\\'s nice to see ryan pick up roles like this and the one in courage under fire . \\nthe two aren\\'t very comparable to each other , but they both deviate from her usual \" intelligently ditzy \" romantic comedy roles , and it\\'s an impressive side of ryan movie goers rarely have the chance to enjoy . \\nbut even though the two leads do an impressive job , it is dennis franz who grabs us with his interpretation of a hospital patient who knows more than meets the eye . \\nit\\'s a shame that with so much going for it , city of angels falters so much in its final stages , leaving us with the realization that an emotionally incredible movie was out there , they just didn\\'t know quite how to get to it . \\nthey struggle for an impacting conclusion and wind up with painful thud rather than an exhilarating high . \\nfilmmakers should know your final impression will be the one you linger on , remember , and convey to others thru word of mouth , so after telling us for 60+ minutes that this film is a glorious masterpiece , they sure leave us with a disheartening taste of mediocrity in our mouths . \\nbased on the german film wings of desire ( that being the english title , of course ) , city of angels is ninety percent success , enough to make most people forgive its shortcomings , even the devastatingly disappointing ending . \\nmost movie goers , the non-cynics anyway , will be too wrapped up in the surreal atmosphere to give criticism to that which needs to be criticized . \\nnonetheless , city of angels is beautifully captivating , which is probably enough to satisfy those poetic viewers who will appreciate a delve into rich emotional territories . \\n',\n",
              " 'cv012_29576.txt': b'synopsis : bobby garfield ( yelchin ) lives in a small town with his mirthless widowed mother ( hope davis ) . \\nbobby\\'s world revolves around his friends , especially the spritely carol ( boorem ) . \\nthen one day , a new boarder arrives at bobby\\'s house . \\nted brautigan ( hopkins ) is an enigmatic man to whom bobby takes an immediate liking . \\nas the bond between bobby and ted deepens , bobby becomes privy to ted\\'s great secret , an event which will change both of their lives forever . \\nreview : a small but enchanting movie , \" hearts in atlantis \" easily recalls another king-inspired coming-of-age film , \" stand by me \" , both in terms of its setting and the sentiment it conveys . \\n \" hearts \" is a tribute to the magic of childhood , to those summers when the days seem neverending , and nothing means more than your closest friends . \\nunlike \" stand by me \" , there is a supernatural element to \" hearts \" , but although it is key to the plot , it is not prominent . \\nlike \" stand by me \" , this is a mostly character-driven film , and as such it benefits greatly from superb casting . \\nyelchin is very good as bobby , finding a good mix of innocence and resignation . \\nmore splendid still is boorem , whom i praised highly for her work in \" along came a spider \" and who is simply radiant here as carol . \\nand then there is hopkins , who despite playing such a quiet , introspective character as ted , nonetheless commands our attention every time he is onscreen . \\nless successful is davis , whose strident elizabeth comes across as overly cartoonish . \\ni also found it odd that bobby and carol\\'s other friend , sully ( whose death as an adult sets up the movie\\'s flashback framing device ) , is paid virtually no attention . \\nbut hicks\\' direction is lovely without being cloying , and despite the movie\\'s general lack of incident , it never ceases to weave its spell over the audience . \\n',\n",
              " 'cv013_10159.txt': b\"synopsis : in this movie , steven spielberg , one of today's finest directors , attempts to spice up the 1800s story of a long courtroom battle over the fate of prisoner cinque ( djimon hounsou ) - - a young angry man from sierra leone who was kidnapped into slavery - - and his fellow prisoners . \\ncinque and friends have landed a ship on the shores of america after escaping spanish slave traders , but since the americans don't speak cinque's language , the black men are hauled into court to determine whether or not they are legally slaves . \\ntechnically , since the international slave trade was outlawed at that time , people like cinque couldn't be kidnapped into slavery ; one had to be born a slave to be legally considered a slave . \\nlawyers baldwin and adams ( matthew mcconaughey and anthony hopkins ) must prove cinque and the others were captured into slavery , rather than born slaves , in order to get them out of prison as free men . \\nthree lengthy court cases are portrayed with spielberg's trademark panache - - flashy beginning , lots of facial close-ups , big music , and dramatic imagery . \\na final speech by adams is followed by an anticlimax where subtitles show what eventually happened to the various characters . \\nopinion : making a fictional movie is easier than making one about real life . \\nin fiction , one invents purposeful , clear-cut good guys and bad guys , puts the fictional characters in conflict , and takes the tale to its exciting conclusion . \\nreal life , however , consists of long stretches of boredom with a few dramatic moments and characters who stand around , think thoughts and do nothing , or come and go before events are resolved . \\nspielberg gives us a visually spicy and historically accurate real life story . \\ndjimon hounsou and anthony hopkins turn in excellent performances . \\n\",\n",
              " 'cv014_13924.txt': b'the police negotiator is the person with the entirely unenviable job of going into ground zero and attempting to talk a dangerous criminal out of doing whatever he or she intends to do . \\nlives are often at stake , and the criminal is usually armed and most likely mentally unstable , prone to turn on the negotiator at a moment\\'s notice . \\nthe negotiator must therefore be something of an actor , psychologist , and sham artist , in addition to being a police officer ; he must be able to think on his feet and either work toward the goal of ending the confrontation without violence , or failing that , must be prepared to facilitate the conclusion of the crisis through firepower . \\nmost of all , the negotiator must be able to enter a situation with as little intelligence about the scenario as possible , and quickly gain control of the situation , dominate the conversation , and influence the perpetrator into thinking that the end of the conflict is what he really wants . \\nit takes a pretty smart person to do that . \\nbut what if the hostage-holding criminal is just as smart ? \\nwhat if he\\'s also able to think on his feet ? \\nin fact , what if he also knows all the tricks to turning the situation to his favor ? \\nit is this circumstance which forms the basis for f . gary gray\\'s the negotiator . \\nin this film , police negotiator danny roman ( samuel l . jackson ) is tipped off by his partner to corruption within the chicago police force . \\nwhen his partner turns up shot to death and internal affairs finds incriminating evidence in roman\\'s home , roman becomes the prime suspect of both embezzling from the police disability fund and murder . \\nfaced with the scorn of most of the police department , and under close scrutiny by the media , roman is forced to turn in his badge in one of those typical scenes in the captain\\'s office . \\ni don\\'t quite remember if the captain actually said , \" i hate to do this , but . . . \" , \\nalthough it wouldn\\'t surprise me if he did . \\nluckily , the film soon shakes off the conventionalism and concentrates on the interesting premise mentioned above . \\nafter being offered a take-it-or-leave-it deal by the district attorney , roman resolves to prove his innocence by walking into the office of internal affairs inspector niebaum ( j . t . \\nwalsh ) , taking him and others hostage , and proclaiming he has been framed . \\nalthough roman\\'s actions seem forced due to the compressed nature of his motivational build-up , gray redeems himself by involving us with the negotiations between roman and fellow police negotiator chris sabian ( kevin spacey ) which soon ensue . \\njackson , while a superb actor , is miscast in the role of roman . \\nthe actor has become so popular , and so often identified as a protagonist ( notable exceptions can be found , such as in jackie brown ) , that we as an audience have a difficult time believing he will carry out his threats . \\nthe script also clearly sets him up as the good guy who is only trying to prove his innocence . \\nhow can we believe he\\'s going to shoot a hostage , no matter if the hostage tried to kill him earlier ? \\nunfortunately , this preconception saps the film of some of it\\'s would-be suspenseful moments , and anything good left in those scenes is largely attributed to jackson\\'s acting ability . \\nalmost every time he\\'s in a scene , jackson steals it without looking back . \\nwhen spacey appears , the film has already run about a third of its course . \\nhis is an interesting character . \\nmade out to be some kind of negotiating superman , our first look at him has him hopelessly trying to get his family moving to set out on vacation . \\n \" i can talk a man out of blowing up the sears tower , but i can\\'t talk my wife out of the bedroom or my daughter off the phone , \" he says . \\nwhen he gets the call to action , however , he quickly changes gears and becomes the man we expect him to be . \\nsoon , his character has to negotiate not only with roman , but also with the swat commander ( david morse ) who is itching to send in a team to take roman out , all the while keeping wary of the fbi agents who are waiting to take over the operation , should negotiations fail . \\nthis complex set of pressures are reflected well in sabian the negotiator and spacey the actor . \\nas the second protagonist , spacey measures up nicely . \\ngray really lucked out with this cast . \\ndavid morse as commander beck , ron rifkin as commander frost , and john spencer as police chief al travis are all more than competent , and can hold their own in scenes with jackson and spacey . \\nthe only problem is the bit of typecasting that results from these choices : morse played a similar role in the rock , rifkin played the d . a . \\nin l . a . confidential , and spencer played a police detective in cop land . \\nwith the level of acting , however , this can be forgiven . \\nalso in the supporting cast , paul giamatti as rudy , one of the hostages , is notable for the comic relief he provides . \\nhis character is initially so slimy , and giamatti himself just looks so shifty , that you expect to laugh before he even says anything . \\nfortunately , this doesn\\'t distract from the seriousness of the rest of the film , but instead provides some nice breathers from the level of tension which gray manages to sustain throughout . \\nj . t . walsh , as the suspicious internal affairs inspector , clocks in with one of his final performances . \\nsadly , the talented but underrated actor passed away in late february of this year , and the soon to be released pleasantville will mark his last film . \\nwalsh appeared in dozens of movies such as good morning vietnam , backdraft , and nixon . \\nfor one of his best performances , check out sling blade , in which he plays a mental patient sharing a ward with billy bob thornton . \\nwhen jack nicholson accepted his best actor oscar in march , walsh was one of the men to whom he credited his success ( the actors performed together in a few good men ) . \\nthe negotiator is actually dedicated to walsh , and while inspector niebaum may not have been his best role , it certainly characterizes the type of character for which walsh had become most famous for playing . \\nin the end , the negotiator has a plotline that parallels it\\'s reality . \\nwe\\'re served with the premise that two equally deft negotiators are battling each other to resolve the conflict in the manner which will suit each of them best . \\nas an audience , we\\'re also given a situation where two wonderfully talented actors are thrown into a movie , and we\\'d like to see if one will dominate the film . \\nboth provide some pretty good entertainment . \\n',\n",
              " 'cv015_29439.txt': b'plot : a young man who loves heavy metal music and especially the band steel dragon , to whom he\\'s devoted a tribute band in which he sings , gets launched into stardom when the real group get rid of their lead singer and call on him to take his place . \\ncritique : i\\'m a sucker for movies like this . \\na young man with a humble background and lofty dreams , works hard , devotes the time , the energy and the patience , and ultimately hits it big-time . \\nin the case of this film , our boy loves a certain heavy metal band and as luck would have it ( yup , luck always finds its way into these types of equations , although generally tied very closely to hard work ) , they need a new singer . \\nhis entry and adaptation to the whole \" rock \\'n roll \" lifestyle fills the rest of the film and is really fun to watch . \\nalthough i will preface this by saying that one thing that would definitely enhance your appreciation for this film is your own love ( or past love ) of heavy metal music and the whole scene around it . \\nmetal was one of my first loves as a teen and even though the genre of music isn\\'t that prominent anymore , i still check out my motley crue , twisted sister and anthrax cds every now and again . \\nthat\\'s not to say that you won\\'t like this film if you don\\'t like the music , but the music and live performances from the band , play a big part in the movie , and i for one , had a blast watching and listening to it all . \\nbut the even greater draw in this film is the standout performance given here by mark wahlberg . \\nwow , hand this fella some major props , as he totally becomes this heavy metal geek/god ( incidentally , metal god was the film\\'s original title , and a much better one if you ask me ) . \\nhe is this movie and i was quite taken by his character pretty much the whole way through . \\nhe came off like a regular guy with extremely passionate goals and work ethic , who was willing to do anything in order to fulfill his dreams . \\naniston was also surprisingly good as the girlfriend ( and the romance angle between them was sweet ) , but she didn\\'t pull me in hard enough during their emotional scenes . \\ni was also impressed by some of the \" real \" musicians who played in the film ( zakk wylde from ozzy osbourne , jeff pilson from dokken , stephan jenkins from third eye blind , blas elias from slaughter ) , but actor dominic west as kirk cuddy made the biggest impression among the band members . \\nit\\'s to note that this film was based on a real-life tale of a young man who used to sing in a judas priest cover band and then went on to become their actual singer ( their original singer also admitted to being gay , as in this film ) . \\njust for the record , i\\'m certainly not recommending this film for its originality or surprise elements , since most of this stuff has already been covered in some way or another in other movies , but because it\\'s a fun , uplifting , well-paced movie with a solid central showing by wahlberg and energetic live performances . \\noh yeah , and for those who dig the \" heavier \" side of music , the soundtrack also rocks ! ! \\nyou see . . . dreams \\ncan come true . . . \\nwhere\\'s joblo coming from ? \\nalmost famous ( 8/10 ) - blow ( 8/10 ) - boogie nights ( 9/10 ) - detroit rock city ( 8/10 ) - girlfight ( 6/10 ) - goodfellas ( 10/10 ) \\n',\n",
              " 'cv016_4659.txt': b'carry on matron is the last great carry-on film in my opinion . \\nmade in 1972 , it still features most of the regulars of this genre . \\nsid james plays the head of a gang of crooks intent on stealing contraceptive pills from the local maternity hospital and selling them off to make a profit , kenneth williams is sir bernard cutting , head of the hospital but also a hypochondriac , hattie jacques re-takes her role as matron , and charles hawtrey is the psychiatrist dr . goode . \\nthe jokes come in fast and so do the laughs , with humorous antics between the matron and sir bernard . \\nthis time , williams is after matron ( jacques ) when he needs to prove himself that he is a man after visiting dr . goode . \\nthe doctor ( hawtrey ) is sworn to secrecy : - \" i assure you , that anything you say to me today will go in one ear and straight out of the other ! \" \\nbernard thinks he is having a sex change and needs to prove himself . \\nthere are great cameos from joan sims , an expectant mother who is many weeks overdue and is eating constantly in every scene , and from kenneth connor as the expectant father who still thinks he\\'s at work ( at the railway station ) . \\nsid james\\' gang including cyril his son ( kenneth cope ) try to find out where the pills are by getting cyril to dress up as a nurse and live in at the nurses home . \\nhe has to share a room with nurse ball ( barbara windsor ) and she soon sees through him ! \\nthe film ends with the attempted robbery of the hospital\\'s pills with panic ensuing . \\nthere are good performances by hattie jacques as the matron , however her character seems a little more subdued and quieter than her previous \\'matron\\'s\\' . \\nwilliams is , as usual , on top form , but sid james isn\\'t given a very good part in this movie and i would forgive anyone to forget that he was in the movie at all . \\nthe same does not go for charles hawtrey , for although he only first appears in the movie after 30 minutes gone and has scarce screen time , he seems to steal every scene he is in . \\nby not making use of sid james and barbara windsor\\'s talent to full effect , the film seems to flounder , but it certainly makes up for it with it\\'s good storyline and it\\'s other appealing characters . \\nthis film is genuinely funny and i could watch it again and again and not get bored ! \\n',\n",
              " 'cv017_22464.txt': b'the ultimate match up between good and evil , \" the untouchables \" is an excellent movie because it looks deeper into an already examined rivalry . \\nbased on the 1959 television show of the same title , \" the untouchables \" may be an exaggeration of the real life events that took place , but it fits together perfectly with some beautifully filmed action sequences , some excellent acting , a memorable score , and a clever script . \\nthe film takes place in chicago during the prohibition era where mobsters led by the ruthless al capone run an underground market of liquor to the demanding public . \\nelliot ness and a small force of men known as the untouchables attempt the impossible by trying to stop capone and trying to maintain peace and order . \\nhowever , as ness soon learns , in order to stabilize peace , you have to bend a few laws . \\nthe fact that capone is evil is very apparent from the first few scenes . \\nthe film begins with capone , played perfectly by deniro , declaring that he is not a violent man and he is a firm believer in following all laws . \\nthe film then quickly transfers to the next scene in which one of capone\\'s men bombs a restaurant that contains many innocent people including a little girl . \\nfrom this point we know capone is evil , not only because he kills without hesitation , but also because he is a lying bastard . \\nright from the first five minutes of the film , de palma has created a hatred towards capone and he shows that this man must be brought down at all costs . \\nthis developed hatred is before the film\\'s hero , ness , is even introduced . \\ni found this approach to be very clever because in a small duration of time there is a great amount of admiration for ness and an equal amount of hatred for capone . \\nthe film only gets better from this point . \\nwith the formation of the untouchables , there is a group of men wearing long , dark overcoats and hats . \\nthey walk in unison and they only look forward . \\nas they walk down the streets they are observed and feared by citizens . \\nholding shot guns and pistols in their hands to stop criminals , this image of vigilantes must have influenced future films . \\none that comes to mind is \" the matrix \" when neo , morpheus , trinity , and the rest of the gang first come into the virtual world . \\nwearing more futuristic outfits of the same 1930\\'s style , the similarities between these two are countless . \\n \" the untouchables \" has some of the hippest , bravest heroes in any action film . \\nthe four members were the only ones willing to go against capone\\'s army . \\neach member of this special group also had their own characteristics that separated them from others . \\nelliot ness , played with perfect ingenuity by kevin costner , is a character that surely grows during the course of the film . \\nhe begins as a man who is determined to follow all laws no matter how unfair they may be . \\nhowever , as the film develops so does ness . \\nhis beliefs involving the law are shattered when he realizes that those he trusted are actually members of the other side . \\nhe also begins to lose his stability when his adversaries begin to murder his friends . \\nhis anger becomes so thunderous that he can no longer hold it in . \\nsean connery , who won an academy award for best supporting actor in his role , plays malone , an aging cop who decides to make one final run as a member of the untouchables . \\nmalone acts as a mentor to ness . \\nhe teaches him \" the chicago way \" to do things ; when they attack with a knife , you attack with a gun . \\nconnery plays his character with the exact amount of wit and experience needed . \\nandy garcia does a wonderful job as george stone , a young man who is just becoming a police officer . \\nas ness grows , he begins to teach stone some valuable lessons that malone once taught him . \\ncharles martin smith is also fantastic as the final member who attempts to use an income tax offense against capone . \\nsmith is perfect for his role as he adds some valuable comic relief to the film . \\nthe action scenes are also some of the most beautifully choreographed i have ever seen . \\nalso very similar to \" the matrix , \" they are exciting and intense . \\n>from a western-like battle to the famous confrontation at the train station steps , the scenes are well thought out and well executed . \\nthe score during these scenes ingeniously adds to the excitement . \\nits pounding drum beats act as a rhythm for the actors . \\nthe combination of image and music is very impressive and also very effective . \\nalthough the real life untouchables may have been excessively glorified , this film is pure entertainment and contains a unique blend of great acting , great directing , and great action . \\nsome scenes ( capone and the baseball bat , the train station ) have stuck in my mind for years and seeing them again will only make them more vivid . \\n',\n",
              " 'cv018_20137.txt': b'having not seen , \" who framed roger rabbit \" in over 10 years , and not remembering much besides that i liked it then , i decided to rent it recently . \\nwatching it i was struck by just how brilliant a film it is . \\naside from the fact that it\\'s a milestone in animation in movies ( it\\'s the first film to combine real actors and cartoon characters , have them interact , and make it convincingly real ) and a great entertainment it\\'s also quite an effective comedy/mystery . \\nwhile the plot may be somewhat familiar the characters are original , especially baby herman , and watching them together is a lot of fun . \\nthe story begins in hollywood in 1947 . \\ncartoon star roger rabbit is blowing takes and having trouble keeping his mind on work , so hard-boiled private detective eddie valiant ( bob hoskins ) is called in by studio head r . k . \\nmaroon ( alan tilvern ) to try to help get roger\\'s mind back on work . \\nmaroon thinks that roger\\'s wife , jessica\\'s , possible unfaithfulness to him might be the cause of distraction and tells eddie to get some photos of her in the act before it costs him any more money in reshoots . \\nvaliant takes some photos of jessica playing , `patty cake\\' with marvin acme ( stubby kaye ) , the owner of toontown ( where all of the cartoon characters live ) and takes them to maroon . \\nupon seeing them , roger is emotionally destroyed and soon after acme is found dead and roger rabbit is the prime suspect . \\nthe rest of the movie follows valiant and roger as they run around town ( and eventually toontown ) trying to clear roger\\'s good name . \\nalong the way they meet judge doom ( christopher lloyd ) a judge-jury-and executioner type who\\'s out to get roger and has discovered the one and only way to kill a `toon . \\' \\n`who framed roger rabbit\\' won 4 academy awards including a special achievement award for richard williams for animation direction and creation of the cartoon characters ( williams and his teams went through the film frame by frame and hand drew the cartoon characters in ) . \\ndirector robert zemekis must be given an equal amount of praise for overseeing the entire production , which included hundreds of animators . \\nalso bob hoskins\\' performance should be credited . \\nhe , in addition to the rest of the human cast , finds the right note to play in all of the scenes with his cartoon co-stars . \\naccording to the internet movie database , hoskins studied his young daughter to learn how to act with imaginary characters and i guess his hard work paid off . \\n`who framed roger rabbit\\' is a rare film . \\none that not only presented a great challenge to the filmmakers but one that can be enjoyed by the whole family ( although some very young viewers may be a little scared by judge doom ) . \\ndo yourself a favor and rent it , `p-p-p-p-please . \" \\n',\n",
              " 'cv019_14482.txt': b'there\\'s something about ben stiller that makes him a popular choice among casting directors these days . \\nstiller currently has three projects in circulation , and what other actor can lay claim to that ? \\nhe\\'s in \" there\\'s something about mary , \" which i * still * haven\\'t seen . \\nand he\\'s in the acerbic \" your friends & neighbors , \" playing a talkative , sexually-frustrated drama coach called jerri . \\nnow there\\'s \" permanent midnight , \" in which stiller plays another jerry , this one a heroin-addicted television writer , last name stahl . \\nthere\\'s also something about this industry that pushes bankable stars like stiller into doing drug-addiction pictures the minute they\\'ve proved themselves commercially . \\newan mcgregor springs to mind who , after successful turns in \" emma \" and \" brassed off , \" received greater respect and admiration for his mind-blowing realization as renton in danny boyle\\'s transatlantic junk-fest , \" trainspotting . \" \\nthe philosophy appears to be a simple one : if you want \\'em to be taken seriously , make \\'em do drugs . \\n \" permanent midnight \" is based on the true life experiences of jerry stahl , a successful hollywood writer who , in the mid-eighties , had a $5 , 000-a-week job churning out plotlines for disposable tv sitcoms and a $6 , 000-a-week heroin habit . \\na habit , in stahl\\'s own words , \" the size of utah . \" \\nas stahl , stiller contributes a commanding performance . \\nunlike \" trainspotting , \" which was successful in having it both ways by chronicling both the highs and the lows of heroin abuse , \" permanent midnight \" instead focuses on the concept of drug addiction as maintenance . \\none of the earliest observations in the film is a casual reference to \" naked lunch \" author william s . burroughs who , when asked why he shoots up first thing in the morning responds , \" so i can shave . \" \\nstahl rarely appears to be puncturing veins for the thrill of it all in \" permanent midnight \" ; it\\'s so he can talk to his mother on the phone , show up for work on time , even pay his bills . \\nwhile the film itself occasionally wobbles around along with stahl , the writing ( adapted from stahl\\'s autobiography by director david veloz ) is controlled and pointed . \\n \" permanent midnight \" shows how stahl moved from new york to l . a . to--again in the author\\'s words-- \" escape the drug scene \" ( yeah , right ) ; why he entered into a convenient marriage with a british tv exec ( elizabeth hurley , so impossibly polite you\\'d swear her single profanity was dubbed ) ; and that he conceived a child in between his random hirings and firings . \\nstahl narrates all this in a motel bedroom to a sympathetic lover called kitty ( norristown\\'s own maria bello ) with whom he spent some rehab time . \\njaneane garofalo is wasted--and miscast--as a heavily-bespectacled hollywood talent agent who fails to get her hooks into the doped-up wordsmith , and that\\'s stahl himself playing a jaded clinic counselor . \\nstiller , unshaven ( burroughs take note ) and with lots of mascara around the eyes , has stahl stumble through the film looking like a train wreck but , to his credit , never once pushes his pill-popping , needle-jabbing performance over the top . \\nthe ubiquitous stiller is the reason to see \" permanent midnight \" ; a dark , comic , and strangely absorbing study of assisted living . \\n',\n",
              " 'cv020_8825.txt': b'by phil curtolo mel gibson ( braveheart ) gave a gripping performance as the father of a young kidnapped boy in ron howard\\'s ransom . \\ngibson plays tom mullen , a wealthy business tycoon whose past actions are coming back to haunt him as a deranged psychopath , played by gary sinise ( forrest gump ) , and his band of low-life thugs kidnap his only son for $2 million . \\ntom and his wife , kate , played by rene russo ( tin cup ) were instructed not to inform the police , but they contacted the fbi . \\nminutes later , an elite team of agents led by delroy lindo ( broken arrow ) are in tom\\'s house and wiring every phone . \\nthe plot sounds average , just like most other kidnap movies that you\\'ve already seen , and it was nothing more than that . \\nthat is until about half-way through the movie . \\nsuddenly , tom goes to the fox 5 news room and makes a live broadcast saying , \" this is your ransom . \\nbut this is as close as you will ever get to it . \\ninstead , i am offering this money as a reward on your head , dead or alive . \" \\nat this point , the plot thickened , and the unusually slow start of the film turned into a suspense-filled action film with great stunts . \\nthe last half of the film is very well done . \\nanother thing that carries this film are the superb performances by gibson and sinise , as they collide in a game of wits over their cellular phones for most of the movie . \\nowen gleiberman of entertainment weekly commented on the subject : \" it makes you wonder what kidnappers did before cell phones . \" \\nbefore this movie , sinise played mostly \" good guys , \" first in of mice & men , then in forrest gump , and most recently , in apollo 13 . \\nbut he was surprisingly devilish and cold in his portrayal of a cop-gone-bad . \\ngibson , of course , was just being gibson , in an oscar-worthy performance . \\nalthough most of the scenes were quite predictable , ransom is a very entertaining and suspenseful film . \\n , \\n',\n",
              " 'cv021_15838.txt': b\"one can not observe a star trek movie and expect to see serious science fiction . \\nthe purpose of star trek is to provide flashy , innocent fun . \\nsometimes the stories are compelling . \\nsometimes they're not . \\nbut , with the exception of the first film in the series ( which provides little more than endless shots of amazed faces ) , i've never been bored by any of the enterprise's numerous missions . \\nstar trek : insurrection is no exception . \\nthe film has gotten some negative reviews ( a friend of mine actually thinks it's the worst in the series ) , but i'm not really sure why . \\nit's an exciting , often hilarious movie that engaged me and left me ready for the next star trek film . \\nsome say it's a bit too light , and more of a long episode than a film . \\nothers say the special effects are cheesy and that it's boring . \\ni simply enjoyed the film . \\ninsurrection , which is the second film to feature strictly the next generation cast , introduces us to a race of people called the ba'ku ; the ba'ku are very old ( most of them are about three hundred years old ) , but they actually appear younger with age due to strange radiation in the rings of their planet . \\nof course , these peaceful people can't horde this fountain of youth all for themselves ? leave it up to their archenemies , the son'a , led by ru'afo ( f . \\nmurray abraham ) , to mess everything up . \\nthe son'a , who are horribly disfigured and rely on daily reconstructive surgery to be aesthetically acceptable , strike a deal with the federation to move the ba'ku elsewhere and exploit the secret to keep their race from dying . \\nthat's when captain picard ( patrick stewart ) steps in : he realizes that moving the ba'ku would kill them ( it also helps that he falls in love with a ba'ku woman ( donna murphy ) ) . \\nso , with his trusty crew , picard defies the federation to keep the ba'ku in their natural habitat . \\nwhen dealing with a series with as much history as this , it's not entirely necessary to re-introduce your characters with each episode . \\nthis is why i believe non-fans have a hard time getting into star trek ; in order to enjoy it , one has to understand how to approach it . \\ninsurrection , however , does a surprisingly good job of us new aspects of the characters . \\nstewart is bold as always , a magnetic screen presence and perfectly capable of holding an entire film together . \\njonathan frakes , who also directed , is funny as commander riker ; a subplot with data ( brent spiner ) discovering his lost childhood is fairly interesting ; and abraham makes a perfect star trek villain , overacting like crazy . \\nfrakes showed similar aptitude for direction in first contact ; insurrection is an exciting film , with some really attractive special effects and a lot of good action . \\nthis is apparently the first star trek film to utilize computer animation , and the result is very pleasing to the eye : particularly in the climactic scenes , in which the son'a employ a giant space ship to suck up the rings of the ba'ku planet , the special effects have a clean , impressively sharp look . \\nif i have any complaint about the film , it's that it tries to take a moral stance when it's not very appropriate to do so . \\ni don't think it's that big of a deal that the federation wanted to move 600 ba'ku in order to save the lives of thousands . \\nbetter yet , why couldn't they have co-existed ? \\ninsurrection feels a little to light to spring these kinds of big moral questions on the audience . \\nwith it's inherent camp factor , the star trek series doesn't seem well-equipped to deal with issues like this . \\ni prefer to just enjoy the spectacle . \\n\",\n",
              " 'cv022_12864.txt': b'a fully loaded entertainment review - website coming in july ! \\n>from ace ventura to truman burbank , jim carrey has run the whole gamut of comic , yet sympathetic , characters . \\n1996\\'s the cable guy was supposed to be his big \" breakthrough \" role from zany humor into darker , more dramatic acting . \\nas most everyone knows , the results were , well , less-than-stellar . \\nnot only did the film not do so hot at the box office , but it was also panned by critics . \\nas far as i know , gene siskel and i are the only ones willing to admit that we dug it . \\nthe first time i saw the cable guy , in theatres , i was in super critic-mode , and didn\\'t really like it . \\nhowever , due to the fact that hbo shows the movie every single day , i\\'ve had time to lean back , relax , and take in the film . \\nand to my surprise , it grew on me . \\nthe plot is rather simple : broderick plays a guy named steven who befriends his cable guy , played by carrey , then is stalked by him when steven tries to break off the relationship . \\nsee , steven\\'s been having some problems with his girlfriend , robin ( leslie mann ) , and he doesn\\'t think he has any more room in his life for a new friend . \\nalso , some of the cable guy\\'s antics have been creeping him out . \\ncarrey , as the cable guy , gives steven various aliases , which later we find out are all tv characters : larry tate , chip douglas , ricky ricardo , etc . he apparently lives in his cable van , and while many critics didn\\'t enjoy this newer , darker , less-manic performance from carrey , i thought it was interesting and rather well-done . \\nfor me , its not the movie as a whole that\\'s enjoyable , but rather several individual scenes : a karaoke jam at steven\\'s apartment , a medieval fight at a theme restaurant , and a bathroom beating ( a la liar , liar ) , just to name a few . \\nperhaps the fact that more of carrey\\'s humorous side comes out during these scenes is what makes them so funny . \\nand if you really want to see something , you\\'ve got to hear his version of jefferson airplane\\'s \" somebody to love \" , sung at the aformentioned karaoke jam . \\nthe cable guy has its bad spots , like most any movie . \\ni didn\\'t particularly like steven\\'s girlfriend , and i felt that more focus should have been used on the relationship between steven and his best friend . \\nalso , the ending , while having you fooled for a moment , is rather contrived , and somewhat dissapointing . \\nstill , i found the cable guy to be a worthwhile venture ; if you\\'re at the video store and can\\'t think of anything to rent , i suggest you try it out . \\nor if you have hbo , just wait till it comes on ( you won\\'t have to wait long . ) \\nhell , that\\'s what i do every day . \\n',\n",
              " 'cv023_12672.txt': b'when bulworth ended , i allowed myself a sigh of relief : ? it is possible for me to enjoy political satire . ? \\nthere have been several recent political films that didn\\'t do a whole lot for me -- wag the dog , for instance , i found to be an intelligent but heartless film , while primary colors is unbearable and unwatchable in its awfulness . ? \\nbulworth is a far better film than these , both in its execution and lasting impression . ? \\nit\\'s a tremendously funny and intelligent picture , but it also has an emotional center -- writer/director/star warren beatty allows the audience to identify with his character , and , in turn , we like him and actually care about the story . \\n ? \\nbeatty plays incumbent democratic senator jay billington bulworth ; the film opens and we see bulworth sobbing as he watches his television spots over and over again . ? \\nhe hasn\\'t slept in days , nor has he eaten , and , almost instantaneously , he goes insane . \\n ? he\\'s not stark raving mad ( not outright , anyway ) , but he\\'s definitely bonkers . \\n ? it\\'s the final weekend of his campaign , and his assistant , murphy ( oliver platt ) has written him a speech to feed to a group of black people in a church in the ghetto . \\n ? bulworth begins the speech , but suddenly goes off track and just starts being honest . ? \\n \" you mean , \" one lady asks , \" the democratic party doesn\\'t care about the african american community ? \" ? \\n \" well , \" he shouts , laughing , \" isn\\'t that obvious ? \" \\nthe story is propelled by a device in which bulworth puts out a contract on his own life ( he muses later that it\\'s a bad thing to make decisions when you\\'re suicidal ) ; he keeps seeing a man in sunglasses ( graham beckel ) whom he believes to be the hitman . \\n ? bulworth also meets nina ( halle berry ) with whom he becomes infatuated . \\n ? suddenly , in the short span of this weekend , bulworth\\'s no-nonsense \" truth in politics \" methods become a national sensation , and he shoots ahead in the polls despite the fact that he\\'s appearing on television wearing gang clothes and spewing more profanity than coherent sentences . \\nbeatty\\'s work on both sides of the camera is excellent . ? \\nhis script and direction are both extremely sharp , as is the surprisingly strong characterization of bulworth himself . ? \\nhere is a man who\\'s reached his limit , and his way of lashing back is by screwing over the entire political structure . ? \\ni like that the film doesn\\'t take a clear shot at any of the political parties or affiliations , but at politics in general and how everything is run by the rich ( although the anti-rich sentiments do get a bit tiresome by the end of the film ) . ? \\nsome of the segments are simply hilarious , such as a lengthy rap that he delivers at a luncheon dedicated to him . ? \\nmuch of the film is completely absurd , but that\\'s the fun part about it . ? \\nit\\'s an angry , serious film at the core , but the package that beatty has created is so much more accessible than recent attempts in the genre . ? \\nwhat adds to this feeling is beatty\\'s portrayal of bulworth ; this is a performance that deserves recognition on a higher scale . \\n ? beatty is so much fun to watch here -- he\\'s always funny , but he\\'s also subtle in ways that flesh out his character without dialogue or hugely noticeable actions . \\n ? beatty is so good that bulworth , despite his shortcomings as a human being , is an entirely sympathetic and likable character almost from the beginning . \\nthe supporting cast is vast and colorful . ? \\nberry is luminous , as always , and adds to her repertoire of solid supporting roles . ? \\ndon cheadle has a good role as a drug dealer who uses gun-toting toddlers to do his dirty work . ? \\noliver platt is an actor who should be careful , for someday i fear he may induce a heart attack with the intensity of his acting ( though he\\'s very funny to watch ) . ? paul sorvino adds the southern accent to his list of mastered inflections . \\nis bulworth offensive ? ? \\ni suppose some may see it that way . ? \\ni wasn\\'t offended by the film , but then again , i hardly care about politics . ? \\ni think that people who find this film offensive will just be blindsided by the honesty of the story . ? \\nthe film isn\\'t perfect , of course -- the ending didn\\'t quite work for me , and the a few of the scenes between bulworth and nina feel forced ( although the eclectic dance sequence is fantastic ) . ? \\nbut these are minor quibbles about an otherwise brilliant film . ? \\nbulworth is a smart , uproariously funny picture that proves to me that political satire can scratch far deeper than the surface . ? \\n',\n",
              " 'cv024_6778.txt': b'call 911 for the cliche police if you must , but the eyes are the window to the soul . \\nthe finest actors working in films are those who can command the screen with a gaze : paul newman , ralph fiennes , anthony hopkins , morgan freeman . \\nyou look at these men on screen and you can tell without them saying a word that there is something going on in their minds , that the characters they play are real human beings . \\nwe will never have a chance to discover if tupac shakur could have been a great actor , but he had that unique quality in his eyes . \\nin gridlock\\'d , an oddly effective combination of gritty drama and social satire , shakur and his co-star tim roth take sketchy characters and make them exciting to watch through the pure energy of their talent and chemistry . \\nshakur and roth play ezekiel \" spoon \" whitmore and alexander \" stretch \" rome , two detroit buddies who share a spoken word/jazz trio , an apartment and a drug addiction with cookie ( thandie newton ) . \\nwhen a new year\\'s eve party ends with cookie comatose after a drug overdose , spoon and stretch begin to wonder if they are living on borrowed time . \\nthey soon make a new year\\'s resolution to get into rehab , but that proves to be easier said than done . \\nas though the temptation to fix were not hindrance enough , spoon and stretch also find their attempts to get clean hitting a road block of bureaucracy , confusion and red tape . \\nthe government might be the least of their obstacles , however , as they find themselves suspects in the murder of a drug dealer , and on the run from a nasty thug ( vondie curtis hall ) . \\nin order for you to buy into gridlock\\'d at all , you have to accept it as a surreal odyssey rather than as urban realism ; unless spoon and stretch sleep through an entire day at the hospital after bringing in cookie , they are going to government offices on new year\\'s day , in which case they should be thankful they get any help at all . \\ngridlock\\'d may actually be a response to the fatuous social commentary of another urban odyssey , 1991\\'s falling down , which found a besieged middle class white male venting his righteous anger against the system during a trek through inner city los angeles . \\nin falling down , michael douglas\\' d-fens ( the character\\'s personalized license plate , echoed in gridlock\\'d by the drug lord d-reper\\'s plates ) whips out a gun because he can\\'t get breakfast at mcdonald\\'s ; in gridlock\\'d , spoon and stretch are unarmed against the demands placed on them before they can get into a rehab center . \\nand where the unhinged d-fens became a heroic surrogate for audiences , writer/director vondie curtis hall refuses to let spoon and stretch off the hook for their own part in the situation . \\none bureaucrat responds to a tirade from stretch with the question , \" do you expect the world to stop . . . just \\nbecause you picked _today_ to clean up ? \" \\nthe world in gridlock\\'d is just as frustrating as the world in falling down , but the cathartic moments yield no easy answers this time . \\nhall has some interesting things to say about what we expect from the system , but perhaps not enough of them . \\na significant chunk of gridlock\\'d is devoted to spoon and stretch\\'s flight from d-reper and from the police , and those sub-plots serve up some thoroughly predictable moments . \\nin one scene , stretch scares off d-reper by getting chummy with a police officer ; another presents that old chestnut of the two mistakenly-suspected heroes in a public place watching a television news report of the crime which shows their pictures . \\nthe entire sequence of events seems designed merely as an excuse to get spoon and stretch running , while the other primary plot has them standing in line or sitting down much of the time . \\nhall also plays with gratuitous inserts of drug paraphernalia and flashbacks to the day before the film\\'s main events , perhaps making a particular effort to point out the talent the characters are wasting through self-destructive behavior . \\noh , the irony of it . \\ntupac shakur made a career in music and movies playing the hard case , and living the life to back it up . \\nin gridlock\\'d , shakur gets the chance to play someone who has seen enough of the way his life could go to know that it scares him . \\nspoon is an idea for a character at best as written by hall , but shakur displays an intelligence and survival instinct which struggle with his addiction . \\nmostly it comes through those eyes , eyes with none of the hardness you might expect from the infamous gangsta . \\nit is spoon who plays conscience to stretch\\'s pure appetite , and roth plays stretch with a gleeful self-destructiveness ( he reveals that he is hiv positive even as he is preparing to shoot up again ) which is as much an obstacle to spoon\\'s goal as any agency or enemy . \\ngridlock\\'d\\'s most cruelly comic scene finds stretch \" helping \" spoon get into an emergency room by repeatedly stabbing him with a tiny pocket knife , and it becomes an appropriate symbol for how the company he keeps has slowly drained the life out of him . \\nwith friends like that , spoon doesn\\'t need enemies , and shakur looks at stretch with the tired eyes of a man who has seen too much . \\nthe tragedy now is that we won\\'t get more chances to see those eyes again . \\n'}"
            ]
          },
          "metadata": {
            "tags": []
          },
          "execution_count": 48
        }
      ]
    },
    {
      "cell_type": "code",
      "metadata": {
        "id": "E_j1dkzqaEfz",
        "colab_type": "code",
        "colab": {}
      },
      "source": [
        "!mv cv000_29590.txt pos\n",
        "!mv  cv001_18431.txt pos\n",
        "!mv  cv002_15918.txt pos\n",
        "!mv  cv003_11664.txt pos\n",
        "!mv  cv004_11636.txt pos\n",
        "!mv  cv005_29443.txt pos\n",
        "!mv  cv006_15448.txt pos\n",
        "!mv cv007_4968.txt pos\n",
        "!mv cv008_29435.txt pos\n",
        "!mv cv009_29592.txt pos\n",
        "!mv cv010_29198.txt pos\n",
        "!mv cv011_12166.txt pos\n",
        "!mv cv012_29576.txt pos \n",
        "!mv cv013_10159.txt pos\n",
        "!mv cv014_13924.txt pos\n",
        "!mv cv015_29439.txt pos\n",
        "!mv cv016_4659.txt pos\n",
        "!mv cv017_22464.txt pos\n",
        "!mv cv018_20137.txt pos \n",
        "!mv cv019_14482.txt pos\n",
        "!mv cv020_8825.txt pos\n",
        "!mv cv021_15838.txt pos\n",
        "!mv cv022_12864.txt pos \n",
        "!mv cv023_12672.txt pos\n",
        "!mv cv024_6778.txt pos"
      ],
      "execution_count": 0,
      "outputs": []
    },
    {
      "cell_type": "code",
      "metadata": {
        "id": "4ftVAMBebwRn",
        "colab_type": "code",
        "colab": {
          "base_uri": "https://localhost:8080/",
          "height": 442
        },
        "outputId": "284178fa-5af7-44c4-dccb-b511e2534a91"
      },
      "source": [
        "#Reading text files from POS\n",
        "from os import listdir\n",
        "def load_doc(filename):\n",
        "\tfile = open(filename, 'r')\n",
        "\ttext = file.read()\n",
        "\tfile.close()\n",
        "\treturn text\n",
        "\n",
        "directory = 'pos'\n",
        "for filename in listdir(directory):\n",
        "\tif not filename.endswith(\".txt\"):\n",
        "\t\tcontinue\n",
        "\tpath = directory + '/' + filename\n",
        "\tdoc = load_doc(path)\n",
        "\tprint('Loaded %s' % filename)"
      ],
      "execution_count": 54,
      "outputs": [
        {
          "output_type": "stream",
          "text": [
            "Loaded cv005_29443.txt\n",
            "Loaded cv010_29198.txt\n",
            "Loaded cv012_29576.txt\n",
            "Loaded cv020_8825.txt\n",
            "Loaded cv019_14482.txt\n",
            "Loaded cv024_6778.txt\n",
            "Loaded cv015_29439.txt\n",
            "Loaded cv004_11636.txt\n",
            "Loaded cv013_10159.txt\n",
            "Loaded cv014_13924.txt\n",
            "Loaded cv008_29435.txt\n",
            "Loaded cv000_29590.txt\n",
            "Loaded cv001_18431.txt\n",
            "Loaded cv011_12166.txt\n",
            "Loaded cv009_29592.txt\n",
            "Loaded cv022_12864.txt\n",
            "Loaded cv023_12672.txt\n",
            "Loaded cv006_15448.txt\n",
            "Loaded cv007_4968.txt\n",
            "Loaded cv002_15918.txt\n",
            "Loaded cv003_11664.txt\n",
            "Loaded cv016_4659.txt\n",
            "Loaded cv021_15838.txt\n",
            "Loaded cv018_20137.txt\n",
            "Loaded cv017_22464.txt\n"
          ],
          "name": "stdout"
        }
      ]
    },
    {
      "cell_type": "code",
      "metadata": {
        "id": "74-ynadpb2Jc",
        "colab_type": "code",
        "colab": {
          "base_uri": "https://localhost:8080/",
          "height": 54
        },
        "outputId": "539da4e2-341b-407c-e292-fc09bc4e005e"
      },
      "source": [
        "#Bag of words model\n",
        "def load_doc(filename):\n",
        "\tfile = open(filename, 'r')\n",
        "\ttext = file.read()\n",
        "\tfile.close()\n",
        "\treturn text\n",
        " \n",
        "filename = 'pos/cv021_15838.txt'\n",
        "text = load_doc(filename)\n",
        "tokens = text.split()\n",
        "print(tokens)"
      ],
      "execution_count": 55,
      "outputs": [
        {
          "output_type": "stream",
          "text": [
            "['one', 'can', 'not', 'observe', 'a', 'star', 'trek', 'movie', 'and', 'expect', 'to', 'see', 'serious', 'science', 'fiction', '.', 'the', 'purpose', 'of', 'star', 'trek', 'is', 'to', 'provide', 'flashy', ',', 'innocent', 'fun', '.', 'sometimes', 'the', 'stories', 'are', 'compelling', '.', 'sometimes', \"they're\", 'not', '.', 'but', ',', 'with', 'the', 'exception', 'of', 'the', 'first', 'film', 'in', 'the', 'series', '(', 'which', 'provides', 'little', 'more', 'than', 'endless', 'shots', 'of', 'amazed', 'faces', ')', ',', \"i've\", 'never', 'been', 'bored', 'by', 'any', 'of', 'the', \"enterprise's\", 'numerous', 'missions', '.', 'star', 'trek', ':', 'insurrection', 'is', 'no', 'exception', '.', 'the', 'film', 'has', 'gotten', 'some', 'negative', 'reviews', '(', 'a', 'friend', 'of', 'mine', 'actually', 'thinks', \"it's\", 'the', 'worst', 'in', 'the', 'series', ')', ',', 'but', \"i'm\", 'not', 'really', 'sure', 'why', '.', \"it's\", 'an', 'exciting', ',', 'often', 'hilarious', 'movie', 'that', 'engaged', 'me', 'and', 'left', 'me', 'ready', 'for', 'the', 'next', 'star', 'trek', 'film', '.', 'some', 'say', \"it's\", 'a', 'bit', 'too', 'light', ',', 'and', 'more', 'of', 'a', 'long', 'episode', 'than', 'a', 'film', '.', 'others', 'say', 'the', 'special', 'effects', 'are', 'cheesy', 'and', 'that', \"it's\", 'boring', '.', 'i', 'simply', 'enjoyed', 'the', 'film', '.', 'insurrection', ',', 'which', 'is', 'the', 'second', 'film', 'to', 'feature', 'strictly', 'the', 'next', 'generation', 'cast', ',', 'introduces', 'us', 'to', 'a', 'race', 'of', 'people', 'called', 'the', \"ba'ku\", ';', 'the', \"ba'ku\", 'are', 'very', 'old', '(', 'most', 'of', 'them', 'are', 'about', 'three', 'hundred', 'years', 'old', ')', ',', 'but', 'they', 'actually', 'appear', 'younger', 'with', 'age', 'due', 'to', 'strange', 'radiation', 'in', 'the', 'rings', 'of', 'their', 'planet', '.', 'of', 'course', ',', 'these', 'peaceful', 'people', \"can't\", 'horde', 'this', 'fountain', 'of', 'youth', 'all', 'for', 'themselves', '?', 'leave', 'it', 'up', 'to', 'their', 'archenemies', ',', 'the', \"son'a\", ',', 'led', 'by', \"ru'afo\", '(', 'f', '.', 'murray', 'abraham', ')', ',', 'to', 'mess', 'everything', 'up', '.', 'the', \"son'a\", ',', 'who', 'are', 'horribly', 'disfigured', 'and', 'rely', 'on', 'daily', 'reconstructive', 'surgery', 'to', 'be', 'aesthetically', 'acceptable', ',', 'strike', 'a', 'deal', 'with', 'the', 'federation', 'to', 'move', 'the', \"ba'ku\", 'elsewhere', 'and', 'exploit', 'the', 'secret', 'to', 'keep', 'their', 'race', 'from', 'dying', '.', \"that's\", 'when', 'captain', 'picard', '(', 'patrick', 'stewart', ')', 'steps', 'in', ':', 'he', 'realizes', 'that', 'moving', 'the', \"ba'ku\", 'would', 'kill', 'them', '(', 'it', 'also', 'helps', 'that', 'he', 'falls', 'in', 'love', 'with', 'a', \"ba'ku\", 'woman', '(', 'donna', 'murphy', ')', ')', '.', 'so', ',', 'with', 'his', 'trusty', 'crew', ',', 'picard', 'defies', 'the', 'federation', 'to', 'keep', 'the', \"ba'ku\", 'in', 'their', 'natural', 'habitat', '.', 'when', 'dealing', 'with', 'a', 'series', 'with', 'as', 'much', 'history', 'as', 'this', ',', \"it's\", 'not', 'entirely', 'necessary', 'to', 're-introduce', 'your', 'characters', 'with', 'each', 'episode', '.', 'this', 'is', 'why', 'i', 'believe', 'non-fans', 'have', 'a', 'hard', 'time', 'getting', 'into', 'star', 'trek', ';', 'in', 'order', 'to', 'enjoy', 'it', ',', 'one', 'has', 'to', 'understand', 'how', 'to', 'approach', 'it', '.', 'insurrection', ',', 'however', ',', 'does', 'a', 'surprisingly', 'good', 'job', 'of', 'us', 'new', 'aspects', 'of', 'the', 'characters', '.', 'stewart', 'is', 'bold', 'as', 'always', ',', 'a', 'magnetic', 'screen', 'presence', 'and', 'perfectly', 'capable', 'of', 'holding', 'an', 'entire', 'film', 'together', '.', 'jonathan', 'frakes', ',', 'who', 'also', 'directed', ',', 'is', 'funny', 'as', 'commander', 'riker', ';', 'a', 'subplot', 'with', 'data', '(', 'brent', 'spiner', ')', 'discovering', 'his', 'lost', 'childhood', 'is', 'fairly', 'interesting', ';', 'and', 'abraham', 'makes', 'a', 'perfect', 'star', 'trek', 'villain', ',', 'overacting', 'like', 'crazy', '.', 'frakes', 'showed', 'similar', 'aptitude', 'for', 'direction', 'in', 'first', 'contact', ';', 'insurrection', 'is', 'an', 'exciting', 'film', ',', 'with', 'some', 'really', 'attractive', 'special', 'effects', 'and', 'a', 'lot', 'of', 'good', 'action', '.', 'this', 'is', 'apparently', 'the', 'first', 'star', 'trek', 'film', 'to', 'utilize', 'computer', 'animation', ',', 'and', 'the', 'result', 'is', 'very', 'pleasing', 'to', 'the', 'eye', ':', 'particularly', 'in', 'the', 'climactic', 'scenes', ',', 'in', 'which', 'the', \"son'a\", 'employ', 'a', 'giant', 'space', 'ship', 'to', 'suck', 'up', 'the', 'rings', 'of', 'the', \"ba'ku\", 'planet', ',', 'the', 'special', 'effects', 'have', 'a', 'clean', ',', 'impressively', 'sharp', 'look', '.', 'if', 'i', 'have', 'any', 'complaint', 'about', 'the', 'film', ',', \"it's\", 'that', 'it', 'tries', 'to', 'take', 'a', 'moral', 'stance', 'when', \"it's\", 'not', 'very', 'appropriate', 'to', 'do', 'so', '.', 'i', \"don't\", 'think', \"it's\", 'that', 'big', 'of', 'a', 'deal', 'that', 'the', 'federation', 'wanted', 'to', 'move', '600', \"ba'ku\", 'in', 'order', 'to', 'save', 'the', 'lives', 'of', 'thousands', '.', 'better', 'yet', ',', 'why', \"couldn't\", 'they', 'have', 'co-existed', '?', 'insurrection', 'feels', 'a', 'little', 'to', 'light', 'to', 'spring', 'these', 'kinds', 'of', 'big', 'moral', 'questions', 'on', 'the', 'audience', '.', 'with', \"it's\", 'inherent', 'camp', 'factor', ',', 'the', 'star', 'trek', 'series', \"doesn't\", 'seem', 'well-equipped', 'to', 'deal', 'with', 'issues', 'like', 'this', '.', 'i', 'prefer', 'to', 'just', 'enjoy', 'the', 'spectacle', '.']\n"
          ],
          "name": "stdout"
        }
      ]
    },
    {
      "cell_type": "code",
      "metadata": {
        "id": "DgvJPe3Ob_Wd",
        "colab_type": "code",
        "colab": {
          "base_uri": "https://localhost:8080/",
          "height": 88
        },
        "outputId": "fc82d607-6550-424e-81fb-f482a8fa53cf"
      },
      "source": [
        "import nltk\n",
        "nltk.download('stopwords')\n",
        "import string\n",
        " \n",
        "def load_doc(filename):\n",
        "\tfile = open(filename, 'r')\n",
        "\ttext = file.read()\n",
        "\tfile.close()\n",
        "\treturn text\n",
        "filename = 'pos/cv021_15838.txt'\n",
        "text = load_doc(filename)\n",
        "tokens = text.split()\n",
        "table = str.maketrans('', '', string.punctuation)\n",
        "tokens = [w.translate(table) for w in tokens]\n",
        "tokens = [word for word in tokens if word.isalpha()]\n",
        "stop_words = set(stopwords.words('english'))\n",
        "tokens = [w for w in tokens if not w in stop_words]\n",
        "tokens = [word for word in tokens if len(word) > 1]\n",
        "print(tokens)"
      ],
      "execution_count": 56,
      "outputs": [
        {
          "output_type": "stream",
          "text": [
            "[nltk_data] Downloading package stopwords to /root/nltk_data...\n",
            "[nltk_data]   Package stopwords is already up-to-date!\n",
            "['one', 'observe', 'star', 'trek', 'movie', 'expect', 'see', 'serious', 'science', 'fiction', 'purpose', 'star', 'trek', 'provide', 'flashy', 'innocent', 'fun', 'sometimes', 'stories', 'compelling', 'sometimes', 'theyre', 'exception', 'first', 'film', 'series', 'provides', 'little', 'endless', 'shots', 'amazed', 'faces', 'ive', 'never', 'bored', 'enterprises', 'numerous', 'missions', 'star', 'trek', 'insurrection', 'exception', 'film', 'gotten', 'negative', 'reviews', 'friend', 'mine', 'actually', 'thinks', 'worst', 'series', 'im', 'really', 'sure', 'exciting', 'often', 'hilarious', 'movie', 'engaged', 'left', 'ready', 'next', 'star', 'trek', 'film', 'say', 'bit', 'light', 'long', 'episode', 'film', 'others', 'say', 'special', 'effects', 'cheesy', 'boring', 'simply', 'enjoyed', 'film', 'insurrection', 'second', 'film', 'feature', 'strictly', 'next', 'generation', 'cast', 'introduces', 'us', 'race', 'people', 'called', 'baku', 'baku', 'old', 'three', 'hundred', 'years', 'old', 'actually', 'appear', 'younger', 'age', 'due', 'strange', 'radiation', 'rings', 'planet', 'course', 'peaceful', 'people', 'cant', 'horde', 'fountain', 'youth', 'leave', 'archenemies', 'sona', 'led', 'ruafo', 'murray', 'abraham', 'mess', 'everything', 'sona', 'horribly', 'disfigured', 'rely', 'daily', 'reconstructive', 'surgery', 'aesthetically', 'acceptable', 'strike', 'deal', 'federation', 'move', 'baku', 'elsewhere', 'exploit', 'secret', 'keep', 'race', 'dying', 'thats', 'captain', 'picard', 'patrick', 'stewart', 'steps', 'realizes', 'moving', 'baku', 'would', 'kill', 'also', 'helps', 'falls', 'love', 'baku', 'woman', 'donna', 'murphy', 'trusty', 'crew', 'picard', 'defies', 'federation', 'keep', 'baku', 'natural', 'habitat', 'dealing', 'series', 'much', 'history', 'entirely', 'necessary', 'reintroduce', 'characters', 'episode', 'believe', 'nonfans', 'hard', 'time', 'getting', 'star', 'trek', 'order', 'enjoy', 'one', 'understand', 'approach', 'insurrection', 'however', 'surprisingly', 'good', 'job', 'us', 'new', 'aspects', 'characters', 'stewart', 'bold', 'always', 'magnetic', 'screen', 'presence', 'perfectly', 'capable', 'holding', 'entire', 'film', 'together', 'jonathan', 'frakes', 'also', 'directed', 'funny', 'commander', 'riker', 'subplot', 'data', 'brent', 'spiner', 'discovering', 'lost', 'childhood', 'fairly', 'interesting', 'abraham', 'makes', 'perfect', 'star', 'trek', 'villain', 'overacting', 'like', 'crazy', 'frakes', 'showed', 'similar', 'aptitude', 'direction', 'first', 'contact', 'insurrection', 'exciting', 'film', 'really', 'attractive', 'special', 'effects', 'lot', 'good', 'action', 'apparently', 'first', 'star', 'trek', 'film', 'utilize', 'computer', 'animation', 'result', 'pleasing', 'eye', 'particularly', 'climactic', 'scenes', 'sona', 'employ', 'giant', 'space', 'ship', 'suck', 'rings', 'baku', 'planet', 'special', 'effects', 'clean', 'impressively', 'sharp', 'look', 'complaint', 'film', 'tries', 'take', 'moral', 'stance', 'appropriate', 'dont', 'think', 'big', 'deal', 'federation', 'wanted', 'move', 'baku', 'order', 'save', 'lives', 'thousands', 'better', 'yet', 'couldnt', 'coexisted', 'insurrection', 'feels', 'little', 'light', 'spring', 'kinds', 'big', 'moral', 'questions', 'audience', 'inherent', 'camp', 'factor', 'star', 'trek', 'series', 'doesnt', 'seem', 'wellequipped', 'deal', 'issues', 'like', 'prefer', 'enjoy', 'spectacle']\n"
          ],
          "name": "stdout"
        }
      ]
    },
    {
      "cell_type": "code",
      "metadata": {
        "id": "Ne4aY03kTvHL",
        "colab_type": "code",
        "colab": {
          "base_uri": "https://localhost:8080/",
          "height": 544
        },
        "outputId": "793f65f7-39e0-42ee-a7e6-5f6df36bfb50"
      },
      "source": [
        "#Reading text files from NEG\n",
        "from os import listdir\n",
        "def load_doc(filename):\n",
        "\tfile = open(filename, 'r')\n",
        "\ttext = file.read()\n",
        "\tfile.close()\n",
        "\treturn text\n",
        "\n",
        "directory = 'neg'\n",
        "for filename in listdir(directory):\n",
        "\tif not filename.endswith(\".txt\"):\n",
        "\t\tcontinue\n",
        "\tpath = directory + '/' + filename\n",
        "\tdoc = load_doc(path)\n",
        "\tprint('Loaded %s' % filename)"
      ],
      "execution_count": 31,
      "outputs": [
        {
          "output_type": "stream",
          "text": [
            "Loaded cv169_24973.txt\n",
            "Loaded cv394_5311.txt\n",
            "Loaded cv391_11615.txt\n",
            "Loaded cv282_6833.txt\n",
            "Loaded cv165_2389.txt\n",
            "Loaded cv051_10751.txt\n",
            "Loaded cv164_23451.txt\n",
            "Loaded cv052_29318.txt\n",
            "Loaded cv283_11963.txt\n",
            "Loaded cv054_4101.txt\n",
            "Loaded cv393_29234.txt\n",
            "Loaded cv053_23117.txt\n",
            "Loaded cv278_14533.txt\n",
            "Loaded cv392_12238.txt\n",
            "Loaded cv167_18094.txt\n",
            "Loaded cv166_11959.txt\n",
            "Loaded cv395_11761.txt\n",
            "Loaded cv279_19452.txt\n",
            "Loaded cv168_7435.txt\n",
            "Loaded cv050_12128.txt\n",
            "Loaded cv280_8651.txt\n",
            "Loaded cv056_14663.txt\n",
            "Loaded cv396_19127.txt\n",
            "Loaded cv163_10110.txt\n",
            "Loaded cv062_24556.txt\n",
            "Loaded cv063_28852.txt\n",
            "Loaded cv277_20467.txt\n",
            "Loaded cv049_21917.txt\n",
            "Loaded cv397_28890.txt\n",
            "Loaded cv055_8926.txt\n",
            "Loaded cv281_24711.txt\n"
          ],
          "name": "stdout"
        }
      ]
    },
    {
      "cell_type": "code",
      "metadata": {
        "id": "Whu1526DWQgY",
        "colab_type": "code",
        "colab": {
          "base_uri": "https://localhost:8080/",
          "height": 54
        },
        "outputId": "bfa2c6e7-881f-47d6-984b-9df96e36ff46"
      },
      "source": [
        "#Bag of words model\n",
        "def load_doc(filename):\n",
        "\tfile = open(filename, 'r')\n",
        "\ttext = file.read()\n",
        "\tfile.close()\n",
        "\treturn text\n",
        " \n",
        "filename = 'neg/cv394_5311.txt'\n",
        "text = load_doc(filename)\n",
        "tokens = text.split()\n",
        "print(tokens)"
      ],
      "execution_count": 34,
      "outputs": [
        {
          "output_type": "stream",
          "text": [
            "['actually', ',', \"i'm\", 'fairly', 'sure', 'the', 'experience', 'of', 'having', 'my', 'flesh', 'torn', 'and', 'mutilated', 'by', 'barbed', 'wire', 'would', 'have', 'been', 'more', 'positive', 'than', 'watching', 'this', 'movie', '.', '\"', 'baywatch', '\"', 'babe', 'pamela', 'anderson', 'lee', 'proves', 'once', 'and', 'for', 'all', 'that', 'she', 'should', 'keep', 'her', \"double-d's\", 'on', 'the', 'small', 'screen', '.', 'at', 'least', 'there', 'you', \"don't\", 'have', 'to', 'pay', 'to', 'see', 'her', 'cleavage', '.', 'and', 'for', 'those', 'viewers', 'out', 'there', 'who', 'would', 'only', 'lay', 'down', 'money', 'for', 'this', 'movie', 'in', 'hopes', 'of', 'seeing', 'pam', 'topless', ',', 'hate', 'to', 'burst', 'your', 'bubble', ',', 'but', 'there', 'are', 'no', 'full-fledged', 'nude', 'scenes', 'in', 'barb', 'wire', '.', 'you', \"wouldn't\", 'be', 'reading', 'this', 'review', 'right', 'now', 'if', 'i', 'had', 'known', 'that', 'fact', 'going', 'in', '.', 'i', \"can't\", 'go', 'back', 'in', 'time', 'and', 'reverse', 'my', 'mistake', ',', 'but', 'i', 'can', 'warn', 'other', 'horny', 'teenage', 'boys', 'out', 'there', '.', 'they', 'do', 'tease', 'us', 'a', 'few', 'times', 'with', 'scenes', 'where', 'you', 'almost', 'see', 'her', 'topless', 'but', 'if', 'she', 'is', 'nude', ',', \"it's\", 'so', 'quick', 'you', \"can't\", 'even', 'tell', 'for', 'sure', 'whether', \"you're\", 'seeing', 'her', 'andersons', 'or', 'not', '.', 'a', 'nipple', 'hallucination', 'sort', 'of', 'thing', '.', 'barb', 'wire', 'was', 'adapted', 'from', 'a', 'comic', 'book', ',', 'interesting', 'because', 'pamela', 'is', 'probably', 'the', 'only', 'woman', 'who', 'looks', 'like', 'a', 'comic', 'book', 'character', 'in', 'real', 'life', ',', 'even', 'wearing', 'low-cut', 'leather', 'to', 'do', 'office', 'work', '(', 'businesswoman', 'bondage', 'wear', ')', 'and', 'having', 'unreal', 'body', 'proportions', '.', 'yes', ',', 'like', 'the', 'mona', 'lisa', ',', 'pamela', 'anderson', 'is', 'a', 'man-made', 'beauty', ',', 'probably', 'in', 'more', 'senses', 'than', 'one', '.', 'she', 'is', 'a', 'definite', 'beauty', ',', 'though', ',', 'and', 'looking', 'at', 'her', 'is', 'never', 'an', 'unpleasant', 'experience', '.', \"you'd\", 'just', 'think', 'the', 'woman', 'who', 'began', 'her', 'career', 'as', 'a', 'playboy', 'playmate', \"wouldn't\", 'have', 'any', 'reservations', 'about', 'appearing', 'nude', 'in', 'the', 'movie', ',', 'because', \"it's\", 'obvious', 'she', \"wasn't\", 'pulling', 'a', 'sharon', 'stone', 'and', 'trying', 'to', 'make', 'people', 'pay', 'attention', 'to', 'her', 'acting', 'skills', '.', 'i', 'mean', ',', 'she', 'shows', 'off', 'more', 'cleavage', 'here', 'than', 'a', \"jeweler's\", 'convention', '.', 'the', 'movie', 'is', 'set', 'in', 'the', 'year', '2017', ',', '\"', 'the', 'worst', 'year', 'of', 'my', 'life', ',', '\"', 'pam', 'says', '.', '(', '\"', 'the', 'worst', 'movie', 'of', 'the', 'year', ',', '\"', 'i', 'say', '.', ')', 'america', 'is', 'going', 'through', 'a', 'second', 'civil', 'war', 'and', 'pamela', 'is', 'a', 'nightclub', 'owner', 'in', 'the', 'only', 'free', 'city', 'in', 'the', 'nation', '(', 'silicone', 'valley', ',', 'i', 'think', ')', '.', 'she', 'also', 'hires', 'herself', 'out', 'as', 'a', 'bounty', 'hunter', 'when', 'the', 'price', 'is', 'right', ',', 'posing', 'as', 'first', 'a', 'stripper', 'and', 'later', 'as', 'a', 'prostitute', '.', 'but', \"don't\", 'call', 'her', '\"', 'babe', '.', '\"', 'she', 'hates', 'that', ',', 'and', 'reminds', 'us', 'of', 'that', 'fact', 'way', 'too', 'many', 'times', '.', 'imagine', ',', 'a', 'woman', 'who', 'does', 'a', 'trapeze', 'strip', 'tease', 'in', 'a', 'bar', 'while', 'having', 'a', 'hose', 'sprayed', 'on', 'her', 'being', 'referred', 'to', 'in', 'such', 'a', 'sexist', ',', 'demeaning', 'term', '.', 'a', 'liberated', 'woman', 'like', 'pamela', 'anderson', \"shouldn't\", 'have', 'to', 'hear', 'words', 'like', '\"', 'babe', '\"', 'during', 'a', 'strip', 'tease', ',', 'especially', 'since', 'that', 'movie', 'about', 'the', 'talking', 'pig', 'was', 'such', 'a', 'success', '.', 'the', 'plot', '(', 'ha-ha', ')', 'revolves', 'around', 'a', 'pair', 'of', 'contact', 'lenses', 'that', 'allow', 'their', 'wearer', 'to', 'pass', 'through', 'the', 'congressional', \"directorate's\", 'retina', 'scanners', '.', 'in', 'the', 'words', 'of', 'one', 'of', 'the', 'characters', ',', \"they're\", '\"', 'more', 'than', 'meets', 'the', 'eye', '.', '\"', 'reminds', 'me', 'of', 'the', '\"', 'transformers', '\"', 'cartoon', ',', 'and', 'i', 'sure', 'wished', 'the', 'movie', 'could', 'somehow', 'be', 'transformed', 'into', 'something', 'decent', ',', 'but', 'that', 'never', 'happened', '.', 'no', ',', 'the', 'movie', 'just', 'continued', 'on', 'its', 'path', 'of', 'lame', 'action', 'scenes', 'starring', 'pamela', 'van-damme', ',', 'big-busted', 'kickboxer', ',', 'and', 'her', 'resistance', 'accomplices', ',', 'ex-boyfriend', 'axel', '(', 'tamuera', 'morrison', ')', 'and', 'cora', '(', 'victoria', 'rowell', ')', '.', 'thank', 'god', 'they', \"didn't\", 'name', 'her', 'cora', 'reef', '.', 'one', 'bad', 'character', 'name', 'is', 'more', 'than', 'enough', '.', 'pamela', 'originally', \"doesn't\", 'take', 'sides', ',', 'giving', 'some', 'speech', 'about', \"she's\", 'only', 'loyal', 'to', 'the', 'money', 'they', 'pay', 'her', ',', 'but', 'she', 'changes', 'her', 'mind', 'once', 'the', 'congressional', 'bastards', 'kill', 'her', 'blind', 'brother', ',', 'jack', 'noseworthy', 'of', 'bon', 'jovi', '\"', 'always', '\"', 'video', 'fame', '.', 'i', 'still', \"don't\", 'know', 'if', 'barb', 'wire', 'is', 'a', 'step', 'up', 'or', 'step', 'down', 'for', 'noseworthy', ',', 'but', 'he', 'definitely', 'is', 'nose', 'worthy', '(', 'even', 'if', 'he', \"isn't\", 'sponge', 'worthy', ')', '.', 'pam', 'gets', 'ready', 'to', 'avenge', 'his', 'death', 'by', 'grabbing', 'up', 'an', 'armful', 'of', 'semi-automatic', 'weapons', 'and', 'strapping', 'an', 'ammunitions', 'belt', 'to', 'her', 'chest', '.', \"it's\", 'not', 'rambo', '.', '.', '.', \"it's\", 'bimbo', '!', 'mark', 'my', 'words', ',', 'barb', 'wire', 'will', 'be', 'all', 'over', 'the', 'cinemax', 'network', 'in', 'a', 'year', '.', \"it's\", 'got', 'all', 'the', 'elements', 'of', 'the', 'direct-to-video', 'releases', 'featured', 'on', \"hbo's\", 'bastard', 'cousin', ',', 'the', 'cable', 'channel', \"i'd\", 'never', 'watch', 'if', 'it', \"didn't\", 'somehow', 'come', 'free', '.', \"it's\", 'got', 'the', 'non-titillating', 'scenes', 'of', 'voyeurism', ',', 'laughable', 'flashbacks', ',', 'bad', 'dialogue', 'and', 'action', 'cliches', 'out', 'the', 'wazzoo', '.', \"there's\", 'even', 'a', 'narrator', 'at', 'the', 'beginning', 'setting', 'up', 'the', \"movie's\", 'premise', 'while', 'the', 'words', 'scroll', 'up', 'the', 'screen', '.', 'someone', 'needs', 'to', 'tell', 'pamela', 'the', 'wookie', 'this', \"ain't\", 'star', 'wars', '.', 'if', \"you've\", 'seen', 'any', 'action', 'flick', 'of', 'the', 'past', 'fifteen', 'years', ',', \"you'll\", 'recognize', 'plenty', 'of', 'lifted', 'elements', '.', 'barb', 'wire', 'has', 'the', 'obligatory', 'trucks', 'flipping', 'over', ',', 'car', 'crashes', ',', 'explosions', ',', 'broken', 'glass', 'and', 'slow-motion', 'shots', 'of', 'bodies', 'falling', 'hundreds', 'of', 'feet', 'to', 'their', 'death', '.', 'this', 'is', 'one', 'of', 'those', 'automatic-pilot', 'movies', 'anyone', 'could', 'write', 'or', 'direct', '.', 'barb', 'wire', 'has', 'only', 'two', 'things', 'going', 'for', 'it', '.', '.', '.', 'and', 'i', 'think', 'you', 'know', 'what', 'those', 'two', 'things', 'are', '.']\n"
          ],
          "name": "stdout"
        }
      ]
    },
    {
      "cell_type": "code",
      "metadata": {
        "id": "himJu_cyYzGu",
        "colab_type": "code",
        "colab": {
          "base_uri": "https://localhost:8080/",
          "height": 207
        },
        "outputId": "573bd0bf-11ec-4034-9462-7fd09d4043ba"
      },
      "source": [
        "pip install stopwords\n"
      ],
      "execution_count": 39,
      "outputs": [
        {
          "output_type": "stream",
          "text": [
            "Collecting stopwords\n",
            "\u001b[?25l  Downloading https://files.pythonhosted.org/packages/14/a2/d4eb1d5e609fa0b1d59e929db8eb9ae540f8b2d6db3a4ba26f713e81af15/stopwords-0.1.3.tar.gz (41kB)\n",
            "\r\u001b[K     |███████▉                        | 10kB 17.0MB/s eta 0:00:01\r\u001b[K     |███████████████▋                | 20kB 1.6MB/s eta 0:00:01\r\u001b[K     |███████████████████████▌        | 30kB 2.4MB/s eta 0:00:01\r\u001b[K     |███████████████████████████████▎| 40kB 1.6MB/s eta 0:00:01\r\u001b[K     |████████████████████████████████| 51kB 1.6MB/s \n",
            "\u001b[?25hBuilding wheels for collected packages: stopwords\n",
            "  Building wheel for stopwords (setup.py) ... \u001b[?25l\u001b[?25hdone\n",
            "  Created wheel for stopwords: filename=stopwords-0.1.3-py2.py3-none-any.whl size=37286 sha256=734332d8e3470907b9c203ea95b3340b9bb07d931894a2dfaa868eb0177aaa04\n",
            "  Stored in directory: /root/.cache/pip/wheels/39/fa/c7/c4c5111e658f5c58465d948165dc3395a3c10ff57f4cd20356\n",
            "Successfully built stopwords\n",
            "Installing collected packages: stopwords\n",
            "Successfully installed stopwords-0.1.3\n"
          ],
          "name": "stdout"
        }
      ]
    },
    {
      "cell_type": "code",
      "metadata": {
        "id": "4RIru7LsWpkl",
        "colab_type": "code",
        "colab": {
          "base_uri": "https://localhost:8080/",
          "height": 88
        },
        "outputId": "87facf99-8d2e-4d1d-8cc0-3f831a9eb8fe"
      },
      "source": [
        "import nltk\n",
        "nltk.download('stopwords')\n",
        "import string\n",
        " \n",
        "def load_doc(filename):\n",
        "\tfile = open(filename, 'r')\n",
        "\ttext = file.read()\n",
        "\tfile.close()\n",
        "\treturn text\n",
        "filename = 'neg/cv394_5311.txt'\n",
        "text = load_doc(filename)\n",
        "tokens = text.split()\n",
        "table = str.maketrans('', '', string.punctuation)\n",
        "tokens = [w.translate(table) for w in tokens]\n",
        "tokens = [word for word in tokens if word.isalpha()]\n",
        "stop_words = set(stopwords.words('english'))\n",
        "tokens = [w for w in tokens if not w in stop_words]\n",
        "tokens = [word for word in tokens if len(word) > 1]\n",
        "print(tokens)"
      ],
      "execution_count": 41,
      "outputs": [
        {
          "output_type": "stream",
          "text": [
            "[nltk_data] Downloading package stopwords to /root/nltk_data...\n",
            "[nltk_data]   Unzipping corpora/stopwords.zip.\n",
            "['actually', 'im', 'fairly', 'sure', 'experience', 'flesh', 'torn', 'mutilated', 'barbed', 'wire', 'would', 'positive', 'watching', 'movie', 'baywatch', 'babe', 'pamela', 'anderson', 'lee', 'proves', 'keep', 'doubleds', 'small', 'screen', 'least', 'dont', 'pay', 'see', 'cleavage', 'viewers', 'would', 'lay', 'money', 'movie', 'hopes', 'seeing', 'pam', 'topless', 'hate', 'burst', 'bubble', 'fullfledged', 'nude', 'scenes', 'barb', 'wire', 'wouldnt', 'reading', 'review', 'right', 'known', 'fact', 'going', 'cant', 'go', 'back', 'time', 'reverse', 'mistake', 'warn', 'horny', 'teenage', 'boys', 'tease', 'us', 'times', 'scenes', 'almost', 'see', 'topless', 'nude', 'quick', 'cant', 'even', 'tell', 'sure', 'whether', 'youre', 'seeing', 'andersons', 'nipple', 'hallucination', 'sort', 'thing', 'barb', 'wire', 'adapted', 'comic', 'book', 'interesting', 'pamela', 'probably', 'woman', 'looks', 'like', 'comic', 'book', 'character', 'real', 'life', 'even', 'wearing', 'lowcut', 'leather', 'office', 'work', 'businesswoman', 'bondage', 'wear', 'unreal', 'body', 'proportions', 'yes', 'like', 'mona', 'lisa', 'pamela', 'anderson', 'manmade', 'beauty', 'probably', 'senses', 'one', 'definite', 'beauty', 'though', 'looking', 'never', 'unpleasant', 'experience', 'youd', 'think', 'woman', 'began', 'career', 'playboy', 'playmate', 'wouldnt', 'reservations', 'appearing', 'nude', 'movie', 'obvious', 'wasnt', 'pulling', 'sharon', 'stone', 'trying', 'make', 'people', 'pay', 'attention', 'acting', 'skills', 'mean', 'shows', 'cleavage', 'jewelers', 'convention', 'movie', 'set', 'year', 'worst', 'year', 'life', 'pam', 'says', 'worst', 'movie', 'year', 'say', 'america', 'going', 'second', 'civil', 'war', 'pamela', 'nightclub', 'owner', 'free', 'city', 'nation', 'silicone', 'valley', 'think', 'also', 'hires', 'bounty', 'hunter', 'price', 'right', 'posing', 'first', 'stripper', 'later', 'prostitute', 'dont', 'call', 'babe', 'hates', 'reminds', 'us', 'fact', 'way', 'many', 'times', 'imagine', 'woman', 'trapeze', 'strip', 'tease', 'bar', 'hose', 'sprayed', 'referred', 'sexist', 'demeaning', 'term', 'liberated', 'woman', 'like', 'pamela', 'anderson', 'shouldnt', 'hear', 'words', 'like', 'babe', 'strip', 'tease', 'especially', 'since', 'movie', 'talking', 'pig', 'success', 'plot', 'haha', 'revolves', 'around', 'pair', 'contact', 'lenses', 'allow', 'wearer', 'pass', 'congressional', 'directorates', 'retina', 'scanners', 'words', 'one', 'characters', 'theyre', 'meets', 'eye', 'reminds', 'transformers', 'cartoon', 'sure', 'wished', 'movie', 'could', 'somehow', 'transformed', 'something', 'decent', 'never', 'happened', 'movie', 'continued', 'path', 'lame', 'action', 'scenes', 'starring', 'pamela', 'vandamme', 'bigbusted', 'kickboxer', 'resistance', 'accomplices', 'exboyfriend', 'axel', 'tamuera', 'morrison', 'cora', 'victoria', 'rowell', 'thank', 'god', 'didnt', 'name', 'cora', 'reef', 'one', 'bad', 'character', 'name', 'enough', 'pamela', 'originally', 'doesnt', 'take', 'sides', 'giving', 'speech', 'shes', 'loyal', 'money', 'pay', 'changes', 'mind', 'congressional', 'bastards', 'kill', 'blind', 'brother', 'jack', 'noseworthy', 'bon', 'jovi', 'always', 'video', 'fame', 'still', 'dont', 'know', 'barb', 'wire', 'step', 'step', 'noseworthy', 'definitely', 'nose', 'worthy', 'even', 'isnt', 'sponge', 'worthy', 'pam', 'gets', 'ready', 'avenge', 'death', 'grabbing', 'armful', 'semiautomatic', 'weapons', 'strapping', 'ammunitions', 'belt', 'chest', 'rambo', 'bimbo', 'mark', 'words', 'barb', 'wire', 'cinemax', 'network', 'year', 'got', 'elements', 'directtovideo', 'releases', 'featured', 'hbos', 'bastard', 'cousin', 'cable', 'channel', 'id', 'never', 'watch', 'didnt', 'somehow', 'come', 'free', 'got', 'nontitillating', 'scenes', 'voyeurism', 'laughable', 'flashbacks', 'bad', 'dialogue', 'action', 'cliches', 'wazzoo', 'theres', 'even', 'narrator', 'beginning', 'setting', 'movies', 'premise', 'words', 'scroll', 'screen', 'someone', 'needs', 'tell', 'pamela', 'wookie', 'aint', 'star', 'wars', 'youve', 'seen', 'action', 'flick', 'past', 'fifteen', 'years', 'youll', 'recognize', 'plenty', 'lifted', 'elements', 'barb', 'wire', 'obligatory', 'trucks', 'flipping', 'car', 'crashes', 'explosions', 'broken', 'glass', 'slowmotion', 'shots', 'bodies', 'falling', 'hundreds', 'feet', 'death', 'one', 'automaticpilot', 'movies', 'anyone', 'could', 'write', 'direct', 'barb', 'wire', 'two', 'things', 'going', 'think', 'know', 'two', 'things']\n"
          ],
          "name": "stdout"
        }
      ]
    },
    {
      "cell_type": "code",
      "metadata": {
        "id": "SGyvvvbxY_Mk",
        "colab_type": "code",
        "colab": {
          "base_uri": "https://localhost:8080/",
          "height": 71
        },
        "outputId": "582f3483-728d-41c3-d7c4-97260bbb5279"
      },
      "source": [
        "from string import punctuation\n",
        "from os import listdir\n",
        "from collections import Counter\n",
        "from nltk.corpus import stopwords\n",
        " \n",
        "def load_doc(filename):\n",
        "\tfile = open(filename, 'r')\n",
        "\ttext = file.read()\n",
        "\tfile.close()\n",
        "\treturn text\n",
        " \n",
        "def clean_doc(doc):\n",
        "\ttokens = doc.split()\n",
        "\ttable = str.maketrans('', '', punctuation)\n",
        "\ttokens = [w.translate(table) for w in tokens]\n",
        "\n",
        "\ttokens = [word for word in tokens if word.isalpha()]\n",
        "\tstop_words = set(stopwords.words('english'))\n",
        "\ttokens = [w for w in tokens if not w in stop_words]\n",
        "\ttokens = [word for word in tokens if len(word) > 1]\n",
        "\treturn tokens\n",
        " \n",
        "def add_doc_to_vocab(filename, vocab):\n",
        "\tdoc = load_doc(filename)\n",
        "\ttokens = clean_doc(doc)\n",
        "\tvocab.update(tokens)\n",
        "def process_docs(directory, vocab):\n",
        "\n",
        "\tfor filename in listdir(directory):\n",
        "\n",
        "\t\tif not filename.endswith(\".txt\"):\n",
        "\t\t\tcontinue\n",
        "\t\n",
        "\t\tpath = directory + '/' + filename\n",
        "\n",
        "\t\tadd_doc_to_vocab(path, vocab)\n",
        " \n",
        "vocab = Counter()\n",
        "\n",
        "process_docs('neg/', vocab)\n",
        "process_docs('pos/', vocab)\n",
        "\n",
        "print(len(vocab))\n",
        "\n",
        "print(vocab.most_common(50))"
      ],
      "execution_count": 57,
      "outputs": [
        {
          "output_type": "stream",
          "text": [
            "6500\n",
            "[('film', 210), ('movie', 143), ('one', 140), ('like', 115), ('even', 67), ('get', 65), ('good', 61), ('time', 61), ('also', 58), ('two', 57), ('much', 52), ('would', 49), ('way', 49), ('story', 48), ('characters', 47), ('hes', 45), ('films', 42), ('plot', 42), ('first', 41), ('see', 40), ('every', 39), ('make', 38), ('character', 37), ('people', 37), ('movies', 36), ('new', 34), ('years', 34), ('us', 34), ('life', 34), ('really', 34), ('man', 34), ('scenes', 33), ('seems', 32), ('doesnt', 32), ('could', 31), ('well', 30), ('work', 30), ('back', 30), ('bad', 30), ('know', 30), ('little', 30), ('theres', 29), ('scene', 29), ('star', 29), ('funny', 29), ('never', 28), ('dont', 28), ('right', 28), ('performance', 28), ('around', 27)]\n"
          ],
          "name": "stdout"
        }
      ]
    },
    {
      "cell_type": "code",
      "metadata": {
        "id": "3Spn6YjOcKY5",
        "colab_type": "code",
        "colab": {
          "base_uri": "https://localhost:8080/",
          "height": 88
        },
        "outputId": "dde1fe9d-b0da-43c7-92b3-26bcda8a34cc"
      },
      "source": [
        "#K-FOLD CROSS VALIDATION\n",
        "from string import punctuation\n",
        "from os import listdir\n",
        "from collections import Counter\n",
        "from nltk.corpus import stopwords\n",
        " \n",
        "def load_doc(filename):\n",
        "\tfile = open(filename, 'r')\n",
        "\ttext = file.read()\n",
        "\tfile.close()\n",
        "\treturn text\n",
        " \n",
        "def clean_doc(doc):\n",
        "\ttokens = doc.split()\n",
        "\ttable = str.maketrans('', '', punctuation)\n",
        "\ttokens = [w.translate(table) for w in tokens]\n",
        "\ttokens = [word for word in tokens if word.isalpha()]\n",
        "\tstop_words = set(stopwords.words('english'))\n",
        "\ttokens = [w for w in tokens if not w in stop_words]\n",
        "\ttokens = [word for word in tokens if len(word) > 1]\n",
        "\treturn tokens\n",
        " \n",
        "def add_doc_to_vocab(filename, vocab):\n",
        "\tdoc = load_doc(filename)\n",
        "\ttokens = clean_doc(doc)\n",
        "\tvocab.update(tokens)\n",
        " \n",
        "def process_docs(directory, vocab):\n",
        "\tfor filename in listdir(directory):\n",
        "\t\tif not filename.endswith(\".txt\"):\n",
        "\t\t\tcontinue\n",
        "\t\tpath = directory + '/' + filename\n",
        "\t\tadd_doc_to_vocab(path, vocab)\n",
        " \n",
        "def save_list(lines, filename):\n",
        "\tdata = '\\n'.join(lines)\n",
        "\tfile = open(filename, 'w')\n",
        "\tfile.write(data)\n",
        "\tfile.close()\n",
        " \n",
        "vocab = Counter()\n",
        "process_docs('neg/', vocab)\n",
        "process_docs('pos/', vocab)\n",
        "print(len(vocab))\n",
        "print(vocab.most_common(50))\n",
        "min_occurane = 5\n",
        "tokens = [k for k,c in vocab.items() if c >= min_occurane]\n",
        "print(len(tokens))\n",
        "save_list(tokens, 'vocab.txt')"
      ],
      "execution_count": 84,
      "outputs": [
        {
          "output_type": "stream",
          "text": [
            "6500\n",
            "[('film', 210), ('movie', 143), ('one', 140), ('like', 115), ('even', 67), ('get', 65), ('good', 61), ('time', 61), ('also', 58), ('two', 57), ('much', 52), ('would', 49), ('way', 49), ('story', 48), ('characters', 47), ('hes', 45), ('films', 42), ('plot', 42), ('first', 41), ('see', 40), ('every', 39), ('make', 38), ('character', 37), ('people', 37), ('movies', 36), ('new', 34), ('years', 34), ('us', 34), ('life', 34), ('really', 34), ('man', 34), ('scenes', 33), ('seems', 32), ('doesnt', 32), ('could', 31), ('well', 30), ('work', 30), ('back', 30), ('bad', 30), ('know', 30), ('little', 30), ('theres', 29), ('scene', 29), ('star', 29), ('funny', 29), ('never', 28), ('dont', 28), ('right', 28), ('performance', 28), ('around', 27)]\n",
            "862\n"
          ],
          "name": "stdout"
        }
      ]
    },
    {
      "cell_type": "code",
      "metadata": {
        "id": "IEP6oJsshiUA",
        "colab_type": "code",
        "colab": {}
      },
      "source": [
        "#Feature extraction\n",
        "def load_doc(filename):\n",
        "\tfile = open(filename, 'r')\n",
        "\ttext = file.read()\n",
        "\tfile.close()\n",
        "\treturn text\n",
        "  \n",
        "import pandas as pd\n",
        "import os\n",
        "filename = 'pos/cv021_15838.txt'\n",
        "text = load_doc(filename)\n",
        "labels = {'pos': 1, 'neg': 0}\n",
        "df = pd.DataFrame()\n",
        "df.columns = ['review', 'sentiment']"
      ],
      "execution_count": 0,
      "outputs": []
    },
    {
      "cell_type": "code",
      "metadata": {
        "id": "eUxmx_1kjlv7",
        "colab_type": "code",
        "colab": {}
      },
      "source": [
        "#Building a Classifier\n",
        "X_train = df.loc[:20, 'review'].values\n",
        "y_train = df.loc[:20, 'sentiment'].values\n",
        "X_test = df.loc[21:, 'review'].values\n",
        "y_test = df.loc[21:, 'sentiment'].values\n",
        "from sklearn.feature_extraction.text import TfidfTransformer\n",
        "from sklearn.feature_extraction.text import TfidfVectorizer\n",
        "vectorizer = TfidfVectorizer()\n",
        "train_vectors = vectorizer.fit_transform(X_train)\n",
        "test_vectors = vectorizer.transform(X_test)\n",
        "print(train_vectors.shape, test_vectors.shape)"
      ],
      "execution_count": 0,
      "outputs": []
    },
    {
      "cell_type": "code",
      "metadata": {
        "id": "kpxoF8o8kG90",
        "colab_type": "code",
        "colab": {}
      },
      "source": [
        "#Naive BAyes appraoch \n",
        "from sklearn.naive_bayes import MultinomialNB\n",
        "clf = MultinomialNB().fit(train_vectors, y_train)\n",
        "from  sklearn.metrics  import accuracy_score\n",
        "predicted = clf.predict(test_vectors)\n",
        "print(accuracy_score(y_test,predicted))"
      ],
      "execution_count": 0,
      "outputs": []
    }
  ]
}